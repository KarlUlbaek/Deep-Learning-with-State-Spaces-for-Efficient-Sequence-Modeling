{
 "cells": [
  {
   "cell_type": "code",
   "id": "initial_id",
   "metadata": {
    "collapsed": true,
    "ExecuteTime": {
     "end_time": "2024-05-21T19:31:41.828081Z",
     "start_time": "2024-05-21T19:31:41.587568Z"
    }
   },
   "source": [
    "import pandas as pd\n",
    "import numpy as np"
   ],
   "outputs": [],
   "execution_count": 1
  },
  {
   "metadata": {},
   "cell_type": "markdown",
   "source": "",
   "id": "ab6a7f8245d61cc7"
  },
  {
   "metadata": {
    "ExecuteTime": {
     "end_time": "2024-05-21T19:31:41.842572Z",
     "start_time": "2024-05-21T19:31:41.829383Z"
    }
   },
   "cell_type": "code",
   "source": [
    "#def rename_columns(path = \"data/cifar10_cons.csv\"):\n",
    "def OSL_data_old(path = \"data/exp2/IMDBtoken_pos2_val.csv\"):\n",
    "   df = pd.read_csv(path)\n",
    "   df = df.drop([\"Step\"], axis='columns')\n",
    "   print(df.shape)\n",
    "   min_max = [col for col in list(df.columns) if \"MIN\" in col or \"MAX\" in col]\n",
    "   df = df.drop(min_max, axis='columns')\n",
    "   print(df.shape)\n",
    "\n",
    "   not_all = [col for col in list(df.columns) if \"\\'first\\'\" in col or \"\\'everyother\\'\"  in col]\n",
    "   not_all2 = [col for col in list(df.columns) if \"mam\" not in col.lower()]\n",
    "   not_all = not_all + not_all2\n",
    "   print(\"EXCLUDED\", not_all)\n",
    "   df = df.drop(not_all, axis='columns')\n",
    "   df = df.dropna(axis = \"columns\")\n",
    "   df = df.rename(columns={name: name.lower()[:-11] for name in list(df.columns)})\n",
    "   # if \"IMDB\" in path:\n",
    "   #    df = df.drop(\"mambamodel_s6\", axis='columns')\n",
    "\n",
    "   imdb = True if \"IMDB\" in path else False\n",
    "   vars = [\"diag\",\"10000\", \"1024\", \"true\"]\n",
    "   bonus_vars = [\"b\", \"c\", \"dt\", \"x\"]\n",
    "   final_vars = [\"nopos\", \"imdb\",\"acc\"]\n",
    "   all_vars = vars + bonus_vars + final_vars\n",
    "   num_vars = len(all_vars)\n",
    "   old_names = list(df.columns)\n",
    "\n",
    "\n",
    "   binary_data = np.zeros((len(df.columns), num_vars))\n",
    "   for name_dix, name in enumerate(old_names):\n",
    "      for var_idx, var in enumerate(vars):\n",
    "         if var in name:\n",
    "            binary_data[name_dix, var_idx] = 1.\n",
    "\n",
    "         # get b,c,dt,x for s6\n",
    "         if \"s6\" in name and \"[\" in name:\n",
    "            subset = name.split(\" \")[-1]\n",
    "            for var_idx2, var in enumerate(bonus_vars):\n",
    "               if var in subset:\n",
    "                  binary_data[name_dix, len(vars) + var_idx2] = 1.\n",
    "\n",
    "      # get acc and dataset\n",
    "      acc = df[name].values[-1]\n",
    "      binary_data[name_dix, -1] = acc\n",
    "      if imdb:\n",
    "         binary_data[name_dix, -2] = 1.\n",
    "\n",
    "      if len(name.split(\" \")) < 3 or not \" \" in name:\n",
    "         binary_data[name_dix, -3] = 1.\n",
    "\n",
    "   return binary_data, all_vars\n",
    "\n",
    "imdb_ols_data, all_vars = OSL_data_old(path=\"data/exp2/IMDBtoken_pos2_val_OLD.csv\")\n",
    "# imdb_ols_data, all_vars = OSL_data(path=\"data/exp2/IMDBtoken_pos2_val.csv\")\n",
    "# cifar10_ols_data, _ = OSL_data(path = \"data/exp2/CIFAR10cons_pos2_val.csv\")"
   ],
   "id": "57b0c5cd14798ae8",
   "outputs": [
    {
     "name": "stdout",
     "output_type": "stream",
     "text": [
      "(15, 117)\n",
      "(15, 39)\n",
      "EXCLUDED ['S4ClassicModel_diag - test acc', \"S4ClassicModel_diag_['all', 10000, None, False] - test acc\", \"S4ClassicModel_diag_['all', 10000, None, True] - test acc\", \"S4ClassicModel_diag_['all', 10000, 1024, False] - test acc\", \"S4ClassicModel_diag_['all', 10000, 1024, True] - test acc\", \"S4ClassicModel_diag_['all', 10, None, False] - test acc\", \"S4ClassicModel_diag_['all', 10, None, True] - test acc\", \"S4ClassicModel_diag_['all', 10, 1024, False] - test acc\", \"S4ClassicModel_diag_['all', 10, 1024, True] - test acc\"]\n",
      "mambamodel_diag_['all', 10000, none, false]\n",
      "mambamodel_diag_['all', 10000, none, true]\n",
      "mambamodel_s6\n",
      "mambamodel_diag_['all', 10000, 1024, false]\n",
      "mambamodel_diag_['all', 10000, 1024, true]\n",
      "mambamodel_diag_['all', 10, none, false]\n",
      "mambamodel_diag_['all', 10, none, true]\n",
      "mambamodel_diag\n",
      "mambamodel_diag_['all', 10, 1024, false]\n",
      "mambamodel_diag_['all', 10, 1024, true]\n",
      "mambamodel s6['all', 10000, 1024, true, 'b_c_dt_x']\n",
      "mambamodel s6['all', 10000, 1024, false, 'b_c_dt_x']\n",
      "mambamodel s6['all', 10000, 1024, true, 'b_c_dt']\n",
      "mambamodel s6['all', 10000, 1024, false, 'b_c_dt']\n",
      "mambamodel s6['all', 10000, none, false, 'bcx']\n",
      "mambamodel s6['all', 10000, none, false, 'x']\n",
      "mambamodel s6['all', 10, 1024, false, 'dt']\n",
      "mambamodel s6['all', 10000, none, false, 'bcdt']\n",
      "mambamodel s6['all', 10, 1024, false, 'bc']\n",
      "mambamodel s6['all', 10000, none, false, 'dt']\n",
      "mambamodel s6[]\n",
      "mambamodel s6['all', 10000, none, false, 'bc']\n",
      "mambamodel s6['all', 10, 1024, true, 'bcx']\n",
      "mambamodel s6['all', 10, 1024, true, 'x']\n",
      "mambamodel s6['all', 10, 1024, false, 'bcx']\n",
      "mambamodel s6['all', 10, 1024, true, 'bcdt']\n",
      "mambamodel s6['all', 10, 1024, false, 'x']\n",
      "mambamodel s6['all', 10, 1024, true, 'dt']\n",
      "mambamodel s6['all', 10, 1024, false, 'bcdt']\n",
      "mambamodel s6['all', 10, 1024, true, 'bc']\n"
     ]
    }
   ],
   "execution_count": 2
  },
  {
   "metadata": {
    "ExecuteTime": {
     "end_time": "2024-05-21T19:31:41.846347Z",
     "start_time": "2024-05-21T19:31:41.843595Z"
    }
   },
   "cell_type": "code",
   "source": [
    "# #def rename_columns(path = \"data/cifar10_cons.csv\"):\n",
    "# import pandas as pd\n",
    "# import numpy as np\n",
    "# def OSL_data(path=\"data/exp2/IMDBtoken_pos2_val.csv\", test_or_val = \"test\"):\n",
    "#    #\"test acc\",\"train acc\",\"val acc\"\n",
    "#    df = pd.read_csv(path)\n",
    "#    print(df.shape)\n",
    "# \n",
    "#    names = list(df[\"Name\"])\n",
    "# \n",
    "#    not_all = [idx for idx, name in enumerate(names) if \"\\'first\\'\" in name or \"\\'everyother\\'\" in name]\n",
    "#    print(\"not all\", not_all)\n",
    "#    assert len(not_all) == 0, \"there are fist and everyother\"\n",
    "# \n",
    "#    df = df[df.State == \"finished\"]\n",
    "#    # df = df.rename(columns={name: name.lower()[:-11] for name in list(df.columns)})\n",
    "# \n",
    "#    names = [name.lower() for name in list(df[\"Name\"])]\n",
    "#    imdb = True if \"IMDB\" in path else False\n",
    "#    vars = [\"mamba\", \"diag\", \"10000\", \"1024\", \"true\"]\n",
    "#    bonus_vars = [\"b\", \"c\", \"dt\", \"x\"]\n",
    "#    final_vars = [\"imdb\", \"acc\"]\n",
    "#    all_vars = vars + bonus_vars + final_vars\n",
    "#    num_vars = len(all_vars)\n",
    "#    # old_names = list(df.columns)\n",
    "# \n",
    "#    binary_data = np.zeros((len(names), num_vars))\n",
    "#    for name_dix, name in enumerate(names):\n",
    "#       for var_idx, var in enumerate(vars):\n",
    "#          if var in name:\n",
    "#             binary_data[name_dix, var_idx] = 1.\n",
    "# \n",
    "#          # get b,c,dt,x for s6\n",
    "#          if \"s6\" in name and \"[\" in name:\n",
    "#             subset = name.split(\" \")[-1]\n",
    "#             for var_idx2, var in enumerate(bonus_vars):\n",
    "#                if var in subset:\n",
    "#                   binary_data[name_dix, len(vars) + var_idx2] = 1.\n",
    "# \n",
    "#       # get acc and dataset\n",
    "#       acc = df[test_or_val+\" acc\"].values[-1]\n",
    "#       binary_data[name_dix, -1] = acc\n",
    "#       if imdb:\n",
    "#          binary_data[name_dix, -2] = 1.\n",
    "# \n",
    "#       # if len(name.split(\" \")) < 3 or not \" \" in name:\n",
    "#       #    binary_data[name_dix, -3] = 1.\n",
    "# \n",
    "#    return binary_data, all_vars\n",
    "# \n",
    "# \n",
    "# imdb_ols_data, all_vars = OSL_data(path=\"data/exp2/IMDBtoken_pos2_val.csv\")\n",
    "# cifar10_ols_data, _ = OSL_data(path = \"data/exp2/CIFAR10cons_pos2_val.csv\")\n",
    "# \n"
   ],
   "id": "2f11538e3956e906",
   "outputs": [],
   "execution_count": 3
  },
  {
   "metadata": {
    "ExecuteTime": {
     "end_time": "2024-05-21T19:31:41.850048Z",
     "start_time": "2024-05-21T19:31:41.847437Z"
    }
   },
   "cell_type": "code",
   "source": [
    "# imdb_ols_data, all_vars = OSL_data_old(path=\"data/exp2/IMDBtoken_pos2_val_OLD.csv\")\n",
    "# cifar10_ols_data, _ = OSL_data_old(path = \"data/exp2/CIFAR10cons_pos2_val_OLD.csv\")\n",
    "# print(all_vars)"
   ],
   "id": "c9de3c53439222fa",
   "outputs": [],
   "execution_count": 4
  },
  {
   "metadata": {
    "ExecuteTime": {
     "end_time": "2024-05-21T19:31:41.867095Z",
     "start_time": "2024-05-21T19:31:41.851764Z"
    }
   },
   "cell_type": "code",
   "source": [
    "#print(list(zip(all_vars, imdb_ols_data.mean(axis=0))))\n",
    "\n",
    "imdb_ols_data, all_vars = OSL_data_old(path=\"data/exp2/IMDBtoken_pos2_val_NEW.csv\")\n",
    "cifar10_ols_data, _ = OSL_data_old(path =\"data/exp2/CIFAR10cons_pos2_val_NEW.csv\")\n",
    "\n",
    "\n",
    "print(\"cifar\", cifar10_ols_data.mean(axis=0).round(2))\n",
    "print(\"imdb\", imdb_ols_data.mean(axis=0).round(2))\n",
    "combined = np.vstack((cifar10_ols_data, imdb_ols_data))\n",
    "\n",
    "print(\"IMDB avg with pos\", combined[(combined[:,8]==0) * (combined[:,9]==1), -1].mean())\n",
    "print(\"IMBD avg no pos\", combined[(combined[:,8]==1) * (combined[:,9]==1), -1].mean())\n",
    "\n",
    "print(\"Cifar10 avg with pos\", combined[(combined[:,8]==0) * (combined[:,9]==0), -1].mean())\n",
    "print(\"Cifar10 avg no pos\", combined[(combined[:,8]==1) * (combined[:,9]==0), -1].mean())\n",
    "\n",
    "\n",
    "\n",
    "print(all_vars)\n",
    "print(\"combined\", combined.mean(axis=0).round(2))\n",
    "print(\"combined shape:\", combined.shape)\n",
    "#print(cifar10_ols_data.round(2))"
   ],
   "id": "17c17bed1116890a",
   "outputs": [
    {
     "name": "stdout",
     "output_type": "stream",
     "text": [
      "(15, 138)\n",
      "(15, 46)\n",
      "EXCLUDED ['S4ClassicModel_diag - test acc', \"S4ClassicModel_diag_['all', 10000, None, False] - test acc\", \"S4ClassicModel_diag_['all', 10000, None, True] - test acc\", \"S4ClassicModel_diag_['all', 10000, 1024, False] - test acc\", \"S4ClassicModel_diag_['all', 10000, 1024, True] - test acc\", \"S4ClassicModel_diag_['all', 10, None, False] - test acc\", \"S4ClassicModel_diag_['all', 10, None, True] - test acc\", \"S4ClassicModel_diag_['all', 10, 1024, False] - test acc\", \"S4ClassicModel_diag_['all', 10, 1024, True] - test acc\"]\n",
      "mambamodel_diag1\n",
      "mambamodel_diag2\n",
      "mambamodel_diag3\n",
      "mambamodel_diag4\n",
      "mambamodel_s68\n",
      "mambamodel_s65\n",
      "mambamodel_s66\n",
      "mambamodel_s67\n",
      "mambamodel_diag_['all', 10000, none, false]\n",
      "mambamodel_diag_['all', 10000, none, true]\n",
      "mambamodel_s61\n",
      "mambamodel_diag_['all', 10000, 1024, false]\n",
      "mambamodel_diag_['all', 10000, 1024, true]\n",
      "mambamodel_diag_['all', 10, none, false]\n",
      "mambamodel_diag_['all', 10, none, true]\n",
      "mambamodel_diag_['all', 10, 1024, false]\n",
      "mambamodel_diag8\n",
      "mambamodel_diag_['all', 10, 1024, true]\n",
      "mambamodel s6['all', 10000, 1024, true, 'b_c_dt_x']\n",
      "mambamodel s6['all', 10000, 1024, false, 'b_c_dt_x']\n",
      "mambamodel s6['all', 10000, 1024, true, 'b_c_dt']\n",
      "mambamodel s6['all', 10000, 1024, false, 'b_c_dt']\n",
      "mambamodel s6['all', 10000, none, false, 'bcx']\n",
      "mambamodel s6['all', 10000, none, false, 'x']\n",
      "mambamodel s6['all', 10, 1024, false, 'dt']\n",
      "mambamodel s6['all', 10000, none, false, 'bcdt']\n",
      "mambamodel s6['all', 10, 1024, false, 'bc']\n",
      "mambamodel s6['all', 10000, none, false, 'dt']\n",
      "mambamodel s6['all', 10000, none, false, 'bc']\n",
      "mambamodel s6['all', 10, 1024, true, 'bcx']\n",
      "mambamodel s6['all', 10, 1024, true, 'x']\n",
      "mambamodel s6['all', 10, 1024, false, 'bcx']\n",
      "mambamodel s6['all', 10, 1024, true, 'bcdt']\n",
      "mambamodel s6['all', 10, 1024, false, 'x']\n",
      "mambamodel s6['all', 10, 1024, true, 'dt']\n",
      "mambamodel s6['all', 10, 1024, false, 'bcdt']\n",
      "mambamodel s6['all', 10, 1024, true, 'bc']\n",
      "(25, 147)\n",
      "(25, 49)\n",
      "EXCLUDED [\"S4ClassicModel_diag_['all', 10000, None, False] - test acc\", \"S4ClassicModel_diag_['all', 10000, None, True] - test acc\", \"S4ClassicModel_diag_['all', 10000, 1024, False] - test acc\", \"S4ClassicModel_diag_['all', 10000, 1024, True] - test acc\", \"S4ClassicModel_diag_['all', 10, None, False] - test acc\", \"S4ClassicModel_diag_['all', 10, None, True] - test acc\", \"S4ClassicModel_diag_['all', 10, 1024, False] - test acc\", \"S4ClassicModel_diag_['all', 10, 1024, True] - test acc\", \"S4ClassicModel diag['all', 10000, None, False] - test acc\", \"S4ClassicModel diag['all', 10, 1024, False] - test acc\", \"S4ClassicModel diag['all', 10, 1024, True] - test acc\", 'S4ClassicModel diag[] - test acc']\n",
      "mambamodel_diagb\n",
      "mambamodel_diagc\n",
      "mambamodel_diagd\n",
      "mambamodel_s6e\n",
      "mambamodel_s6f\n",
      "mambamodel_s6g\n",
      "mambamodel_s6h\n",
      "mambamodel_s6_['all', 10, none, true, 'b_dt']\n",
      "mambamodel_s6_['all', 10, 1024, false, 'c_x']\n",
      "mambamodel_s6_['all', 10, 1024, true, 'b_dt_x']\n",
      "mambamodel_diag_['all', 10000, none, false]\n",
      "mambamodel_s6_['all', 10000, none, false, 'dt_x']\n",
      "mambamodel_s6_['all', 10000, none, true, 'b_c_x']\n",
      "mambamodel_diag_['all', 10000, none, true]\n",
      "mambamodel_s6_['all', 10000, 1024, false, 'x']\n",
      "mambamodel_diag_['all', 10000, 1024, false]\n",
      "mambamodel_s6_['all', 10000, 1024, true, 'b_dt']\n",
      "mambamodel_s6_['all', 10, none, false, 'c_dt']\n",
      "mambamodel_diag_['all', 10000, 1024, true]\n",
      "mambamodel_s6_['all', 10, none, true, 'b_c']\n",
      "mambamodel_diag_['all', 10, none, false]\n",
      "mambamodel_s6_['all', 10, 1024, false, 'b_c_dt_x']\n",
      "mambamodel_s6_['all', 10, 1024, true, 'b_c_dt']\n",
      "mambamodel_diag_['all', 10, none, true]\n",
      "mambamodel_diag_['all', 10, 1024, false]\n",
      "mambamodel_diag_['all', 10, 1024, true]\n",
      "mambamodel s6['all', 10000, 1024, true, 'b_c_dt_x']\n",
      "mambamodel s6['all', 10000, 1024, false, 'b_c_dt_x']\n",
      "mambamodel s6['all', 10000, 1024, true, 'b_c_dt']\n",
      "mambamodel s6['all', 10000, 1024, false, 'b_c_dt']\n",
      "mambamodel s6['all', 10, 1024, false, 'bc']\n",
      "mambamodel s6[]\n",
      "mambamodel diag['all', 10000, none, false]\n",
      "mambamodel diag['all', 10, 1024, false]\n",
      "mambamodel diag['all', 10, 1024, true]\n",
      "mambamodel diag[]1\n",
      "mambamodel diag[]\n",
      "cifar [0.43 0.35 0.46 0.35 0.32 0.3  0.3  0.22 0.27 0.   0.77]\n",
      "imdb [0.35 0.35 0.49 0.3  0.35 0.35 0.27 0.22 0.27 1.   0.83]\n",
      "IMDB avg with pos 0.8216681432052895\n",
      "IMBD avg no pos 0.8548319816589356\n",
      "Cifar10 avg with pos 0.7605555427727876\n",
      "Cifar10 avg no pos 0.8068599866580964\n",
      "['diag', '10000', '1024', 'true', 'b', 'c', 'dt', 'x', 'nopos', 'imdb', 'acc']\n",
      "combined [0.39 0.35 0.47 0.32 0.34 0.32 0.28 0.22 0.27 0.5  0.8 ]\n",
      "combined shape: (74, 11)\n"
     ]
    }
   ],
   "execution_count": 5
  },
  {
   "metadata": {
    "ExecuteTime": {
     "end_time": "2024-05-21T19:31:42.732568Z",
     "start_time": "2024-05-21T19:31:41.867990Z"
    }
   },
   "cell_type": "code",
   "source": [
    "import matplotlib.pyplot as plt\n",
    "import matplotlib.patches as mpatches\n",
    "import collections\n",
    "plt.style.use(\"ggplot\")\n",
    "def plot_all_runs(arr, IMDB=True, skip_first=10):\n",
    "   sort_idx = arr[:,-1].argsort()\n",
    "   arr = arr[sort_idx,:]\n",
    "   acc_dict = {\n",
    "               \"diagnopos\":collections.deque(maxlen=5),\n",
    "               \"diagpos\":collections.deque(maxlen=5),\n",
    "               \"s6nopos\":collections.deque(maxlen=5),\n",
    "               \"s6pos\":collections.deque(maxlen=5),\n",
    "               }\n",
    "   for i in range(arr.shape[0]):\n",
    "      \n",
    "      # diag and no pos\n",
    "      if arr[i, 0] == 1 and arr[i, -3] == 1:\n",
    "         c = \"cadetblue\"\n",
    "         if i> skip_first:\n",
    "            acc_dict[\"diagnopos\"].append(arr[i, -1])\n",
    "         \n",
    "      #diag and pos\n",
    "      elif arr[i, 0] == 1 and arr[i, -3] == 0:\n",
    "         c = \"lightcoral\"\n",
    "         if i> skip_first:\n",
    "            acc_dict[\"diagpos\"].append(arr[i, -1])\n",
    "         \n",
    "      # s6 and no pos\n",
    "      elif arr[i, 0] == 0 and arr[i, -3] == 1:\n",
    "         c = \"cornflowerblue\"\n",
    "         if i> skip_first:\n",
    "            acc_dict[\"s6nopos\"].append(arr[i, -1])\n",
    "         \n",
    "      #s6 and pos\n",
    "      elif arr[i, 0] == 0 and arr[i, -3] == 0:\n",
    "         c = \"indianred\"\n",
    "         if i> skip_first:\n",
    "            acc_dict[\"s6pos\"].append(arr[i, -1])\n",
    "      \n",
    "      else:\n",
    "         raise Exception\n",
    "      alpha=0.7 \n",
    "      if c ==\"indianred\":\n",
    "         alpha = 0.9\n",
    "\n",
    "      plt.bar(i, arr[i, -1], color=c, alpha=alpha, width=0.6)\n",
    "   plt.ylim(0, 1.1)\n",
    "   plt.xticks([],[])\n",
    "   red_patch = [\n",
    "           mpatches.Patch(color='cornflowerblue', label='Mamba-s6', alpha=0.7),\n",
    "           mpatches.Patch(color='cadetblue', label='Mamba-s4d', alpha=0.7),\n",
    "           mpatches.Patch(color='indianred', label='Mamba-s6-RoPE', alpha=0.9),\n",
    "           mpatches.Patch(color='lightcoral', label='Mamba-s4d-RoPE', alpha=0.7),\n",
    "           ]\n",
    "   plt.legend(handles=red_patch, ncol=2)\n",
    "   plt.ylabel(\"Validation Accuracy\")\n",
    "   plt.xlabel(\"Different training runs\")\n",
    "   if IMDB:\n",
    "      plt.title(\"IMDB - positional embedding experiment\")\n",
    "      name=\"IMDB\"\n",
    "   else:\n",
    "      plt.title(\"Cifar10 continuous - positional embedding experiment\")\n",
    "      name=\"cifar10\"\n",
    "   plt.tight_layout()\n",
    "   plt.savefig(\"data/exp2/all_runs_{}_pos_emb.png\".format(name), dpi=200)\n",
    "   plt.show()\n",
    "   \n",
    "   print(\n",
    "      [\n",
    "         (key, \n",
    "          np.array(list(acc_dict[key])).mean().round(3), \n",
    "          (1.96*np.array(list(acc_dict[key])).std()/np.sqrt(5)).round(4)) for key in list(acc_dict.keys())\n",
    "      ]\n",
    "   )\n",
    "\n",
    "         \n",
    "plot_all_runs(imdb_ols_data.copy(), True)\n",
    "plot_all_runs(cifar10_ols_data.copy(), False)\n",
    "      \n",
    "      \n",
    "   "
   ],
   "id": "c91c96b46b1f914e",
   "outputs": [
    {
     "data": {
      "text/plain": [
       "<Figure size 640x480 with 1 Axes>"
      ],
      "image/png": "[encoded data removed]"
     },
     "metadata": {},
     "output_type": "display_data"
    },
    {
     "name": "stdout",
     "output_type": "stream",
     "text": [
      "[('diagnopos', 0.852, 0.0021), ('diagpos', 0.846, 0.0036), ('s6nopos', 0.858, 0.0013), ('s6pos', 0.848, 0.0014)]\n"
     ]
    },
    {
     "data": {
      "text/plain": [
       "<Figure size 640x480 with 1 Axes>"
      ],
      "image/png": "[encoded data removed]"
     },
     "metadata": {},
     "output_type": "display_data"
    },
    {
     "name": "stdout",
     "output_type": "stream",
     "text": [
      "[('diagnopos', 0.827, 0.0016), ('diagpos', 0.811, 0.0163), ('s6nopos', 0.787, 0.004), ('s6pos', 0.782, 0.0023)]\n"
     ]
    }
   ],
   "execution_count": 6
  },
  {
   "metadata": {
    "ExecuteTime": {
     "end_time": "2024-05-21T19:31:42.745338Z",
     "start_time": "2024-05-21T19:31:42.742605Z"
    }
   },
   "cell_type": "code",
   "source": [
    "no_pos_ = True\n",
    "if no_pos_:\n",
    "   combined = np.delete(combined, -3, axis=1)\n",
    "   all_vars.pop(-3)"
   ],
   "id": "e65763e61d8c379f",
   "outputs": [],
   "execution_count": 9
  },
  {
   "metadata": {
    "ExecuteTime": {
     "end_time": "2024-05-21T19:31:42.750361Z",
     "start_time": "2024-05-21T19:31:42.746323Z"
    }
   },
   "cell_type": "code",
   "source": "imdb_ols_data[imdb_ols_data[:,-3]==1]",
   "id": "2f16b165b1f40de",
   "outputs": [
    {
     "data": {
      "text/plain": [
       "array([[1.        , 0.        , 0.        , 0.        , 0.        ,\n",
       "        0.        , 0.        , 0.        , 1.        , 1.        ,\n",
       "        0.85039997],\n",
       "       [1.        , 0.        , 0.        , 0.        , 0.        ,\n",
       "        0.        , 0.        , 0.        , 1.        , 1.        ,\n",
       "        0.84887999],\n",
       "       [1.        , 0.        , 0.        , 0.        , 0.        ,\n",
       "        0.        , 0.        , 0.        , 1.        , 1.        ,\n",
       "        0.85608   ],\n",
       "       [1.        , 0.        , 0.        , 0.        , 0.        ,\n",
       "        0.        , 0.        , 0.        , 1.        , 1.        ,\n",
       "        0.85159999],\n",
       "       [0.        , 0.        , 0.        , 0.        , 0.        ,\n",
       "        0.        , 0.        , 0.        , 1.        , 1.        ,\n",
       "        0.85655999],\n",
       "       [0.        , 0.        , 0.        , 0.        , 0.        ,\n",
       "        0.        , 0.        , 0.        , 1.        , 1.        ,\n",
       "        0.85832   ],\n",
       "       [0.        , 0.        , 0.        , 0.        , 0.        ,\n",
       "        0.        , 0.        , 0.        , 1.        , 1.        ,\n",
       "        0.85631996],\n",
       "       [0.        , 0.        , 0.        , 0.        , 0.        ,\n",
       "        0.        , 0.        , 0.        , 1.        , 1.        ,\n",
       "        0.85903996],\n",
       "       [0.        , 0.        , 0.        , 0.        , 0.        ,\n",
       "        0.        , 0.        , 0.        , 1.        , 1.        ,\n",
       "        0.86039996],\n",
       "       [1.        , 0.        , 0.        , 0.        , 0.        ,\n",
       "        0.        , 0.        , 0.        , 1.        , 1.        ,\n",
       "        0.85071999]])"
      ]
     },
     "execution_count": 10,
     "metadata": {},
     "output_type": "execute_result"
    }
   ],
   "execution_count": 10
  },
  {
   "metadata": {
    "ExecuteTime": {
     "end_time": "2024-05-21T19:31:42.756669Z",
     "start_time": "2024-05-21T19:31:42.751809Z"
    }
   },
   "cell_type": "code",
   "source": "cifar10_ols_data[cifar10_ols_data[:,-3]==1]",
   "id": "7f48ff1425731b97",
   "outputs": [
    {
     "data": {
      "text/plain": [
       "array([[1.        , 0.        , 0.        , 0.        , 0.        ,\n",
       "        0.        , 0.        , 0.        , 1.        , 0.        ,\n",
       "        0.82319999],\n",
       "       [1.        , 0.        , 0.        , 0.        , 0.        ,\n",
       "        0.        , 0.        , 0.        , 1.        , 0.        ,\n",
       "        0.82639998],\n",
       "       [1.        , 0.        , 0.        , 0.        , 0.        ,\n",
       "        0.        , 0.        , 0.        , 1.        , 0.        ,\n",
       "        0.8276    ],\n",
       "       [0.        , 0.        , 0.        , 0.        , 0.        ,\n",
       "        0.        , 0.        , 0.        , 1.        , 0.        ,\n",
       "        0.78219998],\n",
       "       [0.        , 0.        , 0.        , 0.        , 0.        ,\n",
       "        0.        , 0.        , 0.        , 1.        , 0.        ,\n",
       "        0.79459995],\n",
       "       [0.        , 0.        , 0.        , 0.        , 0.        ,\n",
       "        0.        , 0.        , 0.        , 1.        , 0.        ,\n",
       "        0.78439999],\n",
       "       [0.        , 0.        , 0.        , 0.        , 0.        ,\n",
       "        0.        , 0.        , 0.        , 1.        , 0.        ,\n",
       "        0.78399998],\n",
       "       [0.        , 0.        , 0.        , 0.        , 0.        ,\n",
       "        0.        , 0.        , 0.        , 1.        , 0.        ,\n",
       "        0.79      ],\n",
       "       [1.        , 0.        , 0.        , 0.        , 0.        ,\n",
       "        0.        , 0.        , 0.        , 1.        , 0.        ,\n",
       "        0.828     ],\n",
       "       [1.        , 0.        , 0.        , 0.        , 0.        ,\n",
       "        0.        , 0.        , 0.        , 1.        , 0.        ,\n",
       "        0.8282    ]])"
      ]
     },
     "execution_count": 11,
     "metadata": {},
     "output_type": "execute_result"
    }
   ],
   "execution_count": 11
  },
  {
   "metadata": {
    "ExecuteTime": {
     "end_time": "2024-05-21T19:31:43.257558Z",
     "start_time": "2024-05-21T19:31:42.757795Z"
    }
   },
   "cell_type": "code",
   "source": [
    "import statsmodels.api as sm\n",
    "y = combined[:,-1]\n",
    "x = combined[:,:-1]\n",
    "x = sm.add_constant(x, has_constant=\"raise\")\n",
    "mod = sm.OLS(y,x)\n",
    "fit = mod.fit()\n",
    "print(fit.params)\n",
    "print([\"cons\"]+all_vars[:-1])\n",
    "fit.summary(xname=[\"cons\"]+all_vars[:-1])\n",
    "\n"
   ],
   "id": "9c149700e398a4f9",
   "outputs": [
    {
     "name": "stdout",
     "output_type": "stream",
     "text": [
      "[ 7.91970459e-01 -1.72719494e-02 -2.85139877e-04  3.30363215e-02\n",
      " -4.22136353e-02 -3.55157287e-03 -2.87134379e-03 -1.10843499e-02\n",
      " -2.94947691e-02  5.29375847e-02]\n",
      "['cons', 'diag', '10000', '1024', 'true', 'b', 'c', 'dt', 'x', 'imdb']\n"
     ]
    },
    {
     "data": {
      "text/plain": [
       "<class 'statsmodels.iolib.summary.Summary'>\n",
       "\"\"\"\n",
       "                            OLS Regression Results                            \n",
       "==============================================================================\n",
       "Dep. Variable:                      y   R-squared:                       0.531\n",
       "Model:                            OLS   Adj. R-squared:                  0.465\n",
       "Method:                 Least Squares   F-statistic:                     8.038\n",
       "Date:                Tue, 21 May 2024   Prob (F-statistic):           7.46e-08\n",
       "Time:                        21:31:43   Log-Likelihood:                 143.82\n",
       "No. Observations:                  74   AIC:                            -267.6\n",
       "Df Residuals:                      64   BIC:                            -244.6\n",
       "Df Model:                           9                                         \n",
       "Covariance Type:            nonrobust                                         \n",
       "==============================================================================\n",
       "                 coef    std err          t      P>|t|      [0.025      0.975]\n",
       "------------------------------------------------------------------------------\n",
       "cons           0.7920      0.011     70.979      0.000       0.770       0.814\n",
       "diag          -0.0173      0.013     -1.357      0.180      -0.043       0.008\n",
       "10000         -0.0003      0.010     -0.028      0.977      -0.020       0.020\n",
       "1024           0.0330      0.010      3.176      0.002       0.012       0.054\n",
       "true          -0.0422      0.010     -4.039      0.000      -0.063      -0.021\n",
       "b             -0.0036      0.020     -0.178      0.859      -0.043       0.036\n",
       "c             -0.0029      0.018     -0.156      0.876      -0.040       0.034\n",
       "dt            -0.0111      0.013     -0.851      0.398      -0.037       0.015\n",
       "x             -0.0295      0.012     -2.362      0.021      -0.054      -0.005\n",
       "imdb           0.0529      0.009      6.039      0.000       0.035       0.070\n",
       "==============================================================================\n",
       "Omnibus:                       35.740   Durbin-Watson:                   1.454\n",
       "Prob(Omnibus):                  0.000   Jarque-Bera (JB):               84.204\n",
       "Skew:                          -1.634   Prob(JB):                     5.19e-19\n",
       "Kurtosis:                       7.078   Cond. No.                         9.30\n",
       "==============================================================================\n",
       "\n",
       "Notes:\n",
       "[1] Standard Errors assume that the covariance matrix of the errors is correctly specified.\n",
       "\"\"\""
      ],
      "text/html": [
       "<table class=\"simpletable\">\n",
       "<caption>OLS Regression Results</caption>\n",
       "<tr>\n",
       "  <th>Dep. Variable:</th>            <td>y</td>        <th>  R-squared:         </th> <td>   0.531</td>\n",
       "</tr>\n",
       "<tr>\n",
       "  <th>Model:</th>                   <td>OLS</td>       <th>  Adj. R-squared:    </th> <td>   0.465</td>\n",
       "</tr>\n",
       "<tr>\n",
       "  <th>Method:</th>             <td>Least Squares</td>  <th>  F-statistic:       </th> <td>   8.038</td>\n",
       "</tr>\n",
       "<tr>\n",
       "  <th>Date:</th>             <td>Tue, 21 May 2024</td> <th>  Prob (F-statistic):</th> <td>7.46e-08</td>\n",
       "</tr>\n",
       "<tr>\n",
       "  <th>Time:</th>                 <td>21:31:43</td>     <th>  Log-Likelihood:    </th> <td>  143.82</td>\n",
       "</tr>\n",
       "<tr>\n",
       "  <th>No. Observations:</th>      <td>    74</td>      <th>  AIC:               </th> <td>  -267.6</td>\n",
       "</tr>\n",
       "<tr>\n",
       "  <th>Df Residuals:</th>          <td>    64</td>      <th>  BIC:               </th> <td>  -244.6</td>\n",
       "</tr>\n",
       "<tr>\n",
       "  <th>Df Model:</th>              <td>     9</td>      <th>                     </th>     <td> </td>   \n",
       "</tr>\n",
       "<tr>\n",
       "  <th>Covariance Type:</th>      <td>nonrobust</td>    <th>                     </th>     <td> </td>   \n",
       "</tr>\n",
       "</table>\n",
       "<table class=\"simpletable\">\n",
       "<tr>\n",
       "    <td></td>       <th>coef</th>     <th>std err</th>      <th>t</th>      <th>P>|t|</th>  <th>[0.025</th>    <th>0.975]</th>  \n",
       "</tr>\n",
       "<tr>\n",
       "  <th>cons</th>  <td>    0.7920</td> <td>    0.011</td> <td>   70.979</td> <td> 0.000</td> <td>    0.770</td> <td>    0.814</td>\n",
       "</tr>\n",
       "<tr>\n",
       "  <th>diag</th>  <td>   -0.0173</td> <td>    0.013</td> <td>   -1.357</td> <td> 0.180</td> <td>   -0.043</td> <td>    0.008</td>\n",
       "</tr>\n",
       "<tr>\n",
       "  <th>10000</th> <td>   -0.0003</td> <td>    0.010</td> <td>   -0.028</td> <td> 0.977</td> <td>   -0.020</td> <td>    0.020</td>\n",
       "</tr>\n",
       "<tr>\n",
       "  <th>1024</th>  <td>    0.0330</td> <td>    0.010</td> <td>    3.176</td> <td> 0.002</td> <td>    0.012</td> <td>    0.054</td>\n",
       "</tr>\n",
       "<tr>\n",
       "  <th>true</th>  <td>   -0.0422</td> <td>    0.010</td> <td>   -4.039</td> <td> 0.000</td> <td>   -0.063</td> <td>   -0.021</td>\n",
       "</tr>\n",
       "<tr>\n",
       "  <th>b</th>     <td>   -0.0036</td> <td>    0.020</td> <td>   -0.178</td> <td> 0.859</td> <td>   -0.043</td> <td>    0.036</td>\n",
       "</tr>\n",
       "<tr>\n",
       "  <th>c</th>     <td>   -0.0029</td> <td>    0.018</td> <td>   -0.156</td> <td> 0.876</td> <td>   -0.040</td> <td>    0.034</td>\n",
       "</tr>\n",
       "<tr>\n",
       "  <th>dt</th>    <td>   -0.0111</td> <td>    0.013</td> <td>   -0.851</td> <td> 0.398</td> <td>   -0.037</td> <td>    0.015</td>\n",
       "</tr>\n",
       "<tr>\n",
       "  <th>x</th>     <td>   -0.0295</td> <td>    0.012</td> <td>   -2.362</td> <td> 0.021</td> <td>   -0.054</td> <td>   -0.005</td>\n",
       "</tr>\n",
       "<tr>\n",
       "  <th>imdb</th>  <td>    0.0529</td> <td>    0.009</td> <td>    6.039</td> <td> 0.000</td> <td>    0.035</td> <td>    0.070</td>\n",
       "</tr>\n",
       "</table>\n",
       "<table class=\"simpletable\">\n",
       "<tr>\n",
       "  <th>Omnibus:</th>       <td>35.740</td> <th>  Durbin-Watson:     </th> <td>   1.454</td>\n",
       "</tr>\n",
       "<tr>\n",
       "  <th>Prob(Omnibus):</th> <td> 0.000</td> <th>  Jarque-Bera (JB):  </th> <td>  84.204</td>\n",
       "</tr>\n",
       "<tr>\n",
       "  <th>Skew:</th>          <td>-1.634</td> <th>  Prob(JB):          </th> <td>5.19e-19</td>\n",
       "</tr>\n",
       "<tr>\n",
       "  <th>Kurtosis:</th>      <td> 7.078</td> <th>  Cond. No.          </th> <td>    9.30</td>\n",
       "</tr>\n",
       "</table><br/><br/>Notes:<br/>[1] Standard Errors assume that the covariance matrix of the errors is correctly specified."
      ],
      "text/latex": "\\begin{center}\n\\begin{tabular}{lclc}\n\\toprule\n\\textbf{Dep. Variable:}    &        y         & \\textbf{  R-squared:         } &     0.531   \\\\\n\\textbf{Model:}            &       OLS        & \\textbf{  Adj. R-squared:    } &     0.465   \\\\\n\\textbf{Method:}           &  Least Squares   & \\textbf{  F-statistic:       } &     8.038   \\\\\n\\textbf{Date:}             & Tue, 21 May 2024 & \\textbf{  Prob (F-statistic):} &  7.46e-08   \\\\\n\\textbf{Time:}             &     21:31:43     & \\textbf{  Log-Likelihood:    } &    143.82   \\\\\n\\textbf{No. Observations:} &          74      & \\textbf{  AIC:               } &    -267.6   \\\\\n\\textbf{Df Residuals:}     &          64      & \\textbf{  BIC:               } &    -244.6   \\\\\n\\textbf{Df Model:}         &           9      & \\textbf{                     } &             \\\\\n\\textbf{Covariance Type:}  &    nonrobust     & \\textbf{                     } &             \\\\\n\\bottomrule\n\\end{tabular}\n\\begin{tabular}{lcccccc}\n               & \\textbf{coef} & \\textbf{std err} & \\textbf{t} & \\textbf{P$> |$t$|$} & \\textbf{[0.025} & \\textbf{0.975]}  \\\\\n\\midrule\n\\textbf{cons}  &       0.7920  &        0.011     &    70.979  &         0.000        &        0.770    &        0.814     \\\\\n\\textbf{diag}  &      -0.0173  &        0.013     &    -1.357  &         0.180        &       -0.043    &        0.008     \\\\\n\\textbf{10000} &      -0.0003  &        0.010     &    -0.028  &         0.977        &       -0.020    &        0.020     \\\\\n\\textbf{1024}  &       0.0330  &        0.010     &     3.176  &         0.002        &        0.012    &        0.054     \\\\\n\\textbf{true}  &      -0.0422  &        0.010     &    -4.039  &         0.000        &       -0.063    &       -0.021     \\\\\n\\textbf{b}     &      -0.0036  &        0.020     &    -0.178  &         0.859        &       -0.043    &        0.036     \\\\\n\\textbf{c}     &      -0.0029  &        0.018     &    -0.156  &         0.876        &       -0.040    &        0.034     \\\\\n\\textbf{dt}    &      -0.0111  &        0.013     &    -0.851  &         0.398        &       -0.037    &        0.015     \\\\\n\\textbf{x}     &      -0.0295  &        0.012     &    -2.362  &         0.021        &       -0.054    &       -0.005     \\\\\n\\textbf{imdb}  &       0.0529  &        0.009     &     6.039  &         0.000        &        0.035    &        0.070     \\\\\n\\bottomrule\n\\end{tabular}\n\\begin{tabular}{lclc}\n\\textbf{Omnibus:}       & 35.740 & \\textbf{  Durbin-Watson:     } &    1.454  \\\\\n\\textbf{Prob(Omnibus):} &  0.000 & \\textbf{  Jarque-Bera (JB):  } &   84.204  \\\\\n\\textbf{Skew:}          & -1.634 & \\textbf{  Prob(JB):          } & 5.19e-19  \\\\\n\\textbf{Kurtosis:}      &  7.078 & \\textbf{  Cond. No.          } &     9.30  \\\\\n\\bottomrule\n\\end{tabular}\n%\\caption{OLS Regression Results}\n\\end{center}\n\nNotes: \\newline\n [1] Standard Errors assume that the covariance matrix of the errors is correctly specified."
     },
     "execution_count": 12,
     "metadata": {},
     "output_type": "execute_result"
    }
   ],
   "execution_count": 12
  },
  {
   "metadata": {
    "ExecuteTime": {
     "end_time": "2024-05-21T19:31:43.263075Z",
     "start_time": "2024-05-21T19:31:43.258969Z"
    }
   },
   "cell_type": "code",
   "source": "all_vars",
   "id": "3366adbec337524f",
   "outputs": [
    {
     "data": {
      "text/plain": [
       "['diag', '10000', '1024', 'true', 'b', 'c', 'dt', 'x', 'imdb', 'acc']"
      ]
     },
     "execution_count": 13,
     "metadata": {},
     "output_type": "execute_result"
    }
   ],
   "execution_count": 13
  },
  {
   "metadata": {
    "ExecuteTime": {
     "end_time": "2024-05-21T19:31:43.687029Z",
     "start_time": "2024-05-21T19:31:43.266049Z"
    }
   },
   "cell_type": "code",
   "source": [
    "\n",
    "num_vars = len(fit.params[1:])\n",
    "\n",
    "\n",
    "params_ = np.array(fit.params[1:])\n",
    "if no_pos_:\n",
    "   all_vars_ = np.array([\"s4d\", \"Theta:\\n10000\", \"Normed\", \"Trainable\", \"b(s6)\", \"c(s6)\", \"dt(s6)\", \"x(s6)\",\"IMDB\"])\n",
    "else:\n",
    "   all_vars_ = np.array([\"s4d\", \"Theta:\\n10000\", \"Normed\", \"Trainable\", \"b(s6)\", \"c(s6)\", \"dt(s6)\", \"x(s6)\", \"NoPos\",\"IMDB\"])#np.array(all_vars[:-1])\n",
    "not_pos_vars_idx = [0,len(params_)-1]\n",
    "tmp = ((0,not_pos_vars_idx), \n",
    "       (len(not_pos_vars_idx), [idx for idx in list(range(len(params_))) if idx not in not_pos_vars_idx]))\n",
    "plt.figure(figsize=(7,4))    \n",
    "#xtick_idx = []\n",
    "colors = [] \n",
    "for off_set, range_ in tmp:\n",
    "   print(range_)\n",
    "   print(\"old names\", all_vars)\n",
    "   print(\"new names\",all_vars_)\n",
    "   se_ = np.array(fit.bse[1:])[range_]\n",
    "   sorted_args = np.argsort(params_[range_])[::-1]\n",
    "   # print(sorted_args)\n",
    "   # print(params_)\n",
    "   \n",
    "   params = params_[range_][sorted_args]\n",
    "   se = se_[sorted_args]\n",
    "   all_var_names = all_vars_[range_][sorted_args]\n",
    "   \n",
    "   \n",
    "   ax = plt.subplot(111)\n",
    "   for i in range(len(range_)):\n",
    "      if ((params[i]-1.96*se[i] < 0) and  (params[i]+1.96*se[i] < 0))  or ((params[i]-1.96*se[i] > 0) and  (params[i]+1.96*se[i] > 0)):\n",
    "         color=\"cornflowerblue\"\n",
    "         alpha=1.\n",
    "      else:\n",
    "         color=\"slategray\"\n",
    "         alpha=0.6\n",
    "      colors.append(color)\n",
    "      #xtick_idx.append(i+off_set)\n",
    "      plt.scatter(i+off_set, params[i], color=color)\n",
    "      plt.vlines(i+off_set, params[i]-1.96*se[i], params[i]+1.96*se[i], color=color, alpha=0.5)\n",
    "\n",
    "plt.xticks(range(num_vars), np.concatenate((np.array([\"IMDB\", \"s4d\"]), all_var_names)))\n",
    "xticks = [tick for tick in ax.get_xticklabels()]\n",
    "\n",
    "for ax_, color in zip(ax.get_xticklabels(), colors):\n",
    "    ax_.set_color(color)\n",
    "\n",
    "import matplotlib.patches as mpatches\n",
    "red_patch = [\n",
    "           mpatches.Patch(color='cornflowerblue', label='Significant'),\n",
    "           mpatches.Patch(color='slategray', label='Insignificant'),\n",
    "          ]\n",
    "\n",
    "plt.legend(handles=red_patch, ncol=2)\n",
    "\n",
    "plt.axvline(1.5,color=\"black\", alpha=0.8)\n",
    "plt.axhline(0, color=\"gray\", alpha=0.5, linestyle=\"--\")\n",
    "plt.grid(axis=\"x\")\n",
    "plt.title(\"OLS estimates with 95% CI\")\n",
    "plt.tight_layout()\n",
    "\n",
    "props = dict(boxstyle='round', facecolor='slategray', alpha=0.2)\n",
    "ctr_vars = \"Control Variables\"\n",
    "ax.text(0.02, 0.1, ctr_vars, transform=ax.transAxes, fontsize=8,color=\"black\", alpha=0.8,\n",
    "        verticalalignment='top', bbox=props)\n",
    "indent = 0.22\n",
    "ctr_vars = \"PosEmb Variables\"\n",
    "if no_pos_:\n",
    "   indent+=0.02\n",
    "ax.text(indent,0.1, ctr_vars, transform=ax.transAxes, fontsize=8, color=\"black\", alpha=0.8,\n",
    "        verticalalignment='top', bbox=props)\n",
    "\n",
    "\n",
    "plt.savefig(f\"data/exp2/ols_coef_ci_pos_emb.png\", dpi=200)\n"
   ],
   "id": "84091adb8d429f25",
   "outputs": [
    {
     "name": "stdout",
     "output_type": "stream",
     "text": [
      "[0, 8]\n",
      "old names ['diag', '10000', '1024', 'true', 'b', 'c', 'dt', 'x', 'imdb', 'acc']\n",
      "new names ['s4d' 'Theta:\\n10000' 'Normed' 'Trainable' 'b(s6)' 'c(s6)' 'dt(s6)'\n",
      " 'x(s6)' 'IMDB']\n",
      "[1, 2, 3, 4, 5, 6, 7]\n",
      "old names ['diag', '10000', '1024', 'true', 'b', 'c', 'dt', 'x', 'imdb', 'acc']\n",
      "new names ['s4d' 'Theta:\\n10000' 'Normed' 'Trainable' 'b(s6)' 'c(s6)' 'dt(s6)'\n",
      " 'x(s6)' 'IMDB']\n"
     ]
    },
    {
     "data": {
      "text/plain": [
       "<Figure size 700x400 with 1 Axes>"
      ],
      "image/png": "[encoded data removed]"
     },
     "metadata": {},
     "output_type": "display_data"
    }
   ],
   "execution_count": 14
  },
  {
   "metadata": {
    "ExecuteTime": {
     "end_time": "2024-05-21T19:31:44.301402Z",
     "start_time": "2024-05-21T19:31:43.688265Z"
    }
   },
   "cell_type": "code",
   "source": [
    "all_vars__ = np.array([\"s4d\", \"10000\", \"Norm\", \"Train\", \"b\", \"c\", \"dt\", \"x\", \"NoPos\", \"IMDB\", \"Acc\"])\n",
    "df = np.vstack((np.array(all_vars__), \n",
    "                imdb_ols_data.sum(axis=0).astype(int), \n",
    "                cifar10_ols_data.sum(axis=0).astype(int),\n",
    "                combined.sum(axis=0).astype(int), \n",
    "                combined.mean(axis=0).round(3))) \n",
    "df"
   ],
   "id": "73c1837d71f58d9f",
   "outputs": [
    {
     "ename": "ValueError",
     "evalue": "all the input array dimensions except for the concatenation axis must match exactly, but along dimension 1, the array at index 0 has size 11 and the array at index 3 has size 10",
     "output_type": "error",
     "traceback": [
      "\u001B[0;31m---------------------------------------------------------------------------\u001B[0m",
      "\u001B[0;31mValueError\u001B[0m                                Traceback (most recent call last)",
      "Cell \u001B[0;32mIn[15], line 2\u001B[0m\n\u001B[1;32m      1\u001B[0m all_vars__ \u001B[38;5;241m=\u001B[39m np\u001B[38;5;241m.\u001B[39marray([\u001B[38;5;124m\"\u001B[39m\u001B[38;5;124ms4d\u001B[39m\u001B[38;5;124m\"\u001B[39m, \u001B[38;5;124m\"\u001B[39m\u001B[38;5;124m10000\u001B[39m\u001B[38;5;124m\"\u001B[39m, \u001B[38;5;124m\"\u001B[39m\u001B[38;5;124mNorm\u001B[39m\u001B[38;5;124m\"\u001B[39m, \u001B[38;5;124m\"\u001B[39m\u001B[38;5;124mTrain\u001B[39m\u001B[38;5;124m\"\u001B[39m, \u001B[38;5;124m\"\u001B[39m\u001B[38;5;124mb\u001B[39m\u001B[38;5;124m\"\u001B[39m, \u001B[38;5;124m\"\u001B[39m\u001B[38;5;124mc\u001B[39m\u001B[38;5;124m\"\u001B[39m, \u001B[38;5;124m\"\u001B[39m\u001B[38;5;124mdt\u001B[39m\u001B[38;5;124m\"\u001B[39m, \u001B[38;5;124m\"\u001B[39m\u001B[38;5;124mx\u001B[39m\u001B[38;5;124m\"\u001B[39m, \u001B[38;5;124m\"\u001B[39m\u001B[38;5;124mNoPos\u001B[39m\u001B[38;5;124m\"\u001B[39m, \u001B[38;5;124m\"\u001B[39m\u001B[38;5;124mIMDB\u001B[39m\u001B[38;5;124m\"\u001B[39m, \u001B[38;5;124m\"\u001B[39m\u001B[38;5;124mAcc\u001B[39m\u001B[38;5;124m\"\u001B[39m])\n\u001B[0;32m----> 2\u001B[0m df \u001B[38;5;241m=\u001B[39m \u001B[43mnp\u001B[49m\u001B[38;5;241;43m.\u001B[39;49m\u001B[43mvstack\u001B[49m\u001B[43m(\u001B[49m\u001B[43m(\u001B[49m\u001B[43mnp\u001B[49m\u001B[38;5;241;43m.\u001B[39;49m\u001B[43marray\u001B[49m\u001B[43m(\u001B[49m\u001B[43mall_vars__\u001B[49m\u001B[43m)\u001B[49m\u001B[43m,\u001B[49m\u001B[43m \u001B[49m\n\u001B[1;32m      3\u001B[0m \u001B[43m                \u001B[49m\u001B[43mimdb_ols_data\u001B[49m\u001B[38;5;241;43m.\u001B[39;49m\u001B[43msum\u001B[49m\u001B[43m(\u001B[49m\u001B[43maxis\u001B[49m\u001B[38;5;241;43m=\u001B[39;49m\u001B[38;5;241;43m0\u001B[39;49m\u001B[43m)\u001B[49m\u001B[38;5;241;43m.\u001B[39;49m\u001B[43mastype\u001B[49m\u001B[43m(\u001B[49m\u001B[38;5;28;43mint\u001B[39;49m\u001B[43m)\u001B[49m\u001B[43m,\u001B[49m\u001B[43m \u001B[49m\n\u001B[1;32m      4\u001B[0m \u001B[43m                \u001B[49m\u001B[43mcifar10_ols_data\u001B[49m\u001B[38;5;241;43m.\u001B[39;49m\u001B[43msum\u001B[49m\u001B[43m(\u001B[49m\u001B[43maxis\u001B[49m\u001B[38;5;241;43m=\u001B[39;49m\u001B[38;5;241;43m0\u001B[39;49m\u001B[43m)\u001B[49m\u001B[38;5;241;43m.\u001B[39;49m\u001B[43mastype\u001B[49m\u001B[43m(\u001B[49m\u001B[38;5;28;43mint\u001B[39;49m\u001B[43m)\u001B[49m\u001B[43m,\u001B[49m\n\u001B[1;32m      5\u001B[0m \u001B[43m                \u001B[49m\u001B[43mcombined\u001B[49m\u001B[38;5;241;43m.\u001B[39;49m\u001B[43msum\u001B[49m\u001B[43m(\u001B[49m\u001B[43maxis\u001B[49m\u001B[38;5;241;43m=\u001B[39;49m\u001B[38;5;241;43m0\u001B[39;49m\u001B[43m)\u001B[49m\u001B[38;5;241;43m.\u001B[39;49m\u001B[43mastype\u001B[49m\u001B[43m(\u001B[49m\u001B[38;5;28;43mint\u001B[39;49m\u001B[43m)\u001B[49m\u001B[43m,\u001B[49m\u001B[43m \u001B[49m\n\u001B[1;32m      6\u001B[0m \u001B[43m                \u001B[49m\u001B[43mcombined\u001B[49m\u001B[38;5;241;43m.\u001B[39;49m\u001B[43mmean\u001B[49m\u001B[43m(\u001B[49m\u001B[43maxis\u001B[49m\u001B[38;5;241;43m=\u001B[39;49m\u001B[38;5;241;43m0\u001B[39;49m\u001B[43m)\u001B[49m\u001B[38;5;241;43m.\u001B[39;49m\u001B[43mround\u001B[49m\u001B[43m(\u001B[49m\u001B[38;5;241;43m3\u001B[39;49m\u001B[43m)\u001B[49m\u001B[43m)\u001B[49m\u001B[43m)\u001B[49m \n\u001B[1;32m      7\u001B[0m df\n",
      "File \u001B[0;32m~/miniconda3/envs/12env/lib/python3.10/site-packages/numpy/core/shape_base.py:289\u001B[0m, in \u001B[0;36mvstack\u001B[0;34m(tup, dtype, casting)\u001B[0m\n\u001B[1;32m    287\u001B[0m \u001B[38;5;28;01mif\u001B[39;00m \u001B[38;5;129;01mnot\u001B[39;00m \u001B[38;5;28misinstance\u001B[39m(arrs, \u001B[38;5;28mlist\u001B[39m):\n\u001B[1;32m    288\u001B[0m     arrs \u001B[38;5;241m=\u001B[39m [arrs]\n\u001B[0;32m--> 289\u001B[0m \u001B[38;5;28;01mreturn\u001B[39;00m \u001B[43m_nx\u001B[49m\u001B[38;5;241;43m.\u001B[39;49m\u001B[43mconcatenate\u001B[49m\u001B[43m(\u001B[49m\u001B[43marrs\u001B[49m\u001B[43m,\u001B[49m\u001B[43m \u001B[49m\u001B[38;5;241;43m0\u001B[39;49m\u001B[43m,\u001B[49m\u001B[43m \u001B[49m\u001B[43mdtype\u001B[49m\u001B[38;5;241;43m=\u001B[39;49m\u001B[43mdtype\u001B[49m\u001B[43m,\u001B[49m\u001B[43m \u001B[49m\u001B[43mcasting\u001B[49m\u001B[38;5;241;43m=\u001B[39;49m\u001B[43mcasting\u001B[49m\u001B[43m)\u001B[49m\n",
      "\u001B[0;31mValueError\u001B[0m: all the input array dimensions except for the concatenation axis must match exactly, but along dimension 1, the array at index 0 has size 11 and the array at index 3 has size 10"
     ]
    }
   ],
   "execution_count": 15
  },
  {
   "metadata": {},
   "cell_type": "code",
   "source": [
    "df[1,-1] = imdb_ols_data.mean(axis=0).round(3)[-1]\n",
    "df[2,-1] = cifar10_ols_data.mean(axis=0).round(3)[-1]\n",
    "df[3,-1] = None\n",
    "df"
   ],
   "id": "6587c75393cf7303",
   "outputs": [],
   "execution_count": null
  }
 ],
 "metadata": {
  "kernelspec": {
   "display_name": "Python 3",
   "language": "python",
   "name": "python3"
  },
  "language_info": {
   "codemirror_mode": {
    "name": "ipython",
    "version": 2
   },
   "file_extension": ".py",
   "mimetype": "text/x-python",
   "name": "python",
   "nbconvert_exporter": "python",
   "pygments_lexer": "ipython2",
   "version": "2.7.6"
  }
 },
 "nbformat": 4,
 "nbformat_minor": 5
}
