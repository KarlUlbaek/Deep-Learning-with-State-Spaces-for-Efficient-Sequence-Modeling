{
 "cells": [
  {
   "cell_type": "code",
   "id": "initial_id",
   "metadata": {
    "collapsed": true,
    "ExecuteTime": {
     "end_time": "2024-05-01T08:58:06.707458Z",
     "start_time": "2024-05-01T08:58:06.472395Z"
    }
   },
   "source": [
    "import pandas as pd\n",
    "import numpy as np"
   ],
   "outputs": [],
   "execution_count": 1
  },
  {
   "metadata": {},
   "cell_type": "markdown",
   "source": "",
   "id": "ab6a7f8245d61cc7"
  },
  {
   "metadata": {
    "ExecuteTime": {
     "end_time": "2024-05-01T08:58:06.715088Z",
     "start_time": "2024-05-01T08:58:06.708688Z"
    }
   },
   "cell_type": "code",
   "source": [
    "#def rename_columns(path = \"data/cifar10_cons.csv\"):\n",
    "def OSL_data_old(path = \"data/exp2/IMDBtoken_pos2_val.csv\"):\n",
    "   df = pd.read_csv(path)\n",
    "   df = df.drop([\"Step\"], axis='columns')\n",
    "   print(df.shape)\n",
    "   min_max = [col for col in list(df.columns) if \"MIN\" in col or \"MAX\" in col]\n",
    "   df = df.drop(min_max, axis='columns')\n",
    "   print(df.shape)\n",
    "\n",
    "   not_all = [col for col in list(df.columns) if \"\\'first\\'\" in col or \"\\'everyother\\'\"  in col]\n",
    "   print(\"not all\", not_all)\n",
    "   df = df.drop(not_all, axis='columns')\n",
    "   df = df.dropna(axis = \"columns\")\n",
    "   df = df.rename(columns={name: name.lower()[:-11] for name in list(df.columns)})\n",
    "\n",
    "   imdb = True if \"IMDB\" in path else False\n",
    "   vars = [\"mamba\", \"diag\",\"10000\", \"1024\", \"true\"]\n",
    "   bonus_vars = [\"b\", \"c\", \"dt\", \"x\"]\n",
    "   final_vars = [\"no_emb\", \"imdb\",\"acc\"]\n",
    "   all_vars = vars + bonus_vars + final_vars\n",
    "   num_vars = len(all_vars)\n",
    "   old_names = list(df.columns)\n",
    "\n",
    "\n",
    "   binary_data = np.zeros((len(df.columns), num_vars))\n",
    "   for name_dix, name in enumerate(old_names):\n",
    "      for var_idx, var in enumerate(vars):\n",
    "         if var in name:\n",
    "            binary_data[name_dix, var_idx] = 1.\n",
    "\n",
    "         # get b,c,dt,x for s6\n",
    "         if \"s6\" in name and \"[\" in name:\n",
    "            subset = name.split(\" \")[-1]\n",
    "            for var_idx2, var in enumerate(bonus_vars):\n",
    "               if var in subset:\n",
    "                  binary_data[name_dix, len(vars) + var_idx2] = 1.\n",
    "\n",
    "      # get acc and dataset\n",
    "      acc = df[name].values[-1]\n",
    "      binary_data[name_dix, -1] = acc\n",
    "      if imdb:\n",
    "         binary_data[name_dix, -2] = 1.\n",
    "\n",
    "      if len(name.split(\" \")) < 3 or not \" \" in name:\n",
    "         binary_data[name_dix, -3] = 1.\n",
    "\n",
    "   return binary_data, all_vars\n",
    "# imdb_ols_data, all_vars = OSL_data(path=\"data/exp2/IMDBtoken_pos2_val.csv\")\n",
    "# cifar10_ols_data, _ = OSL_data(path = \"data/exp2/CIFAR10cons_pos2_val.csv\")"
   ],
   "id": "57b0c5cd14798ae8",
   "outputs": [],
   "execution_count": 2
  },
  {
   "metadata": {
    "ExecuteTime": {
     "end_time": "2024-05-01T08:58:06.743204Z",
     "start_time": "2024-05-01T08:58:06.716297Z"
    }
   },
   "cell_type": "code",
   "source": [
    "# def rename_columns(path = \"data/cifar10_cons.csv\"):\n",
    "import pandas as pd\n",
    "import numpy as np\n",
    "def OSL_data(path=\"data/exp2/IMDBtoken_pos2_val.csv\", test_or_val = \"test\"):\n",
    "   #\"test acc\",\"train acc\",\"val acc\"\n",
    "   df = pd.read_csv(path)\n",
    "   print(df.shape)\n",
    "\n",
    "   names = list(df[\"Name\"])\n",
    "\n",
    "   not_all = [idx for idx, name in enumerate(names) if \"\\'first\\'\" in name or \"\\'everyother\\'\" in name]\n",
    "   print(\"not all\", not_all)\n",
    "   assert len(not_all) == 0, \"there are fist and everyother\"\n",
    "\n",
    "   df = df[df.State == \"finished\"]\n",
    "   # df = df.rename(columns={name: name.lower()[:-11] for name in list(df.columns)})\n",
    "\n",
    "   names = [name.lower() for name in list(df[\"Name\"])]\n",
    "   imdb = True if \"IMDB\" in path else False\n",
    "   vars = [\"mamba\", \"diag\", \"10000\", \"1024\", \"true\"]\n",
    "   bonus_vars = [\"b\", \"c\", \"dt\", \"x\"]\n",
    "   final_vars = [\"no_emb\", \"imdb\", \"acc\"]\n",
    "   all_vars = vars + bonus_vars + final_vars\n",
    "   num_vars = len(all_vars)\n",
    "   # old_names = list(df.columns)\n",
    "\n",
    "   binary_data = np.zeros((len(names), num_vars))\n",
    "   for name_dix, name in enumerate(names):\n",
    "      for var_idx, var in enumerate(vars):\n",
    "         if var in name:\n",
    "            binary_data[name_dix, var_idx] = 1.\n",
    "\n",
    "         # get b,c,dt,x for s6\n",
    "         if \"s6\" in name and \"[\" in name:\n",
    "            subset = name.split(\" \")[-1]\n",
    "            for var_idx2, var in enumerate(bonus_vars):\n",
    "               if var in subset:\n",
    "                  binary_data[name_dix, len(vars) + var_idx2] = 1.\n",
    "\n",
    "      # get acc and dataset\n",
    "      acc = df[test_or_val+\" acc\"].values[-1]\n",
    "      binary_data[name_dix, -1] = acc\n",
    "      if imdb:\n",
    "         binary_data[name_dix, -2] = 1.\n",
    "\n",
    "      if len(name.split(\" \")) < 3 or not \" \" in name:\n",
    "         binary_data[name_dix, -3] = 1.\n",
    "\n",
    "   return binary_data, all_vars\n",
    "\n",
    "\n",
    "imdb_ols_data, all_vars = OSL_data(path=\"data/exp2/IMDBtoken_pos2_val.csv\")\n",
    "cifar10_ols_data, _ = OSL_data(path = \"data/exp2/CIFAR10cons_pos2_val.csv\")\n",
    "\n",
    "imdb_ols_data, all_vars = OSL_data_old(path=\"data/exp2/IMDBtoken_pos2_val_OLD.csv\")\n",
    "cifar10_ols_data, _ = OSL_data_old(path = \"data/exp2/CIFAR10cons_pos2_val_OLD.csv\")"
   ],
   "id": "2f11538e3956e906",
   "outputs": [
    {
     "name": "stdout",
     "output_type": "stream",
     "text": [
      "(43, 22)\n",
      "not all []\n",
      "(45, 22)\n",
      "not all []\n",
      "(15, 117)\n",
      "(15, 39)\n",
      "not all []\n",
      "(25, 123)\n",
      "(25, 41)\n",
      "not all []\n"
     ]
    }
   ],
   "execution_count": 3
  },
  {
   "metadata": {
    "ExecuteTime": {
     "end_time": "2024-05-01T08:58:06.747908Z",
     "start_time": "2024-05-01T08:58:06.744158Z"
    }
   },
   "cell_type": "code",
   "source": [
    "#print(list(zip(all_vars, imdb_ols_data.mean(axis=0))))\n",
    "print(all_vars)\n",
    "print(\"cifar\", cifar10_ols_data.mean(axis=0).round(2))\n",
    "print(\"imdb\", imdb_ols_data.mean(axis=0).round(2))\n",
    "combined = np.vstack((cifar10_ols_data, imdb_ols_data))\n",
    "print(\"combined\", combined.mean(axis=0).round(2))\n",
    "print(\"combined shape:\", combined.shape)\n",
    "\n",
    "#print(cifar10_ols_data.round(2))"
   ],
   "id": "17c17bed1116890a",
   "outputs": [
    {
     "name": "stdout",
     "output_type": "stream",
     "text": [
      "['mamba', 'diag', '10000', '1024', 'true', 'b', 'c', 'dt', 'x', 'no_emb', 'imdb', 'acc']\n",
      "cifar [0.71 0.59 0.44 0.56 0.44 0.29 0.27 0.27 0.2  0.07 0.   0.76]\n",
      "imdb [0.77 0.46 0.44 0.56 0.38 0.33 0.33 0.26 0.21 0.1  1.   0.79]\n",
      "combined [0.74 0.52 0.44 0.56 0.41 0.31 0.3  0.26 0.2  0.09 0.49 0.78]\n",
      "combined shape: (80, 12)\n"
     ]
    }
   ],
   "execution_count": 4
  },
  {
   "metadata": {
    "ExecuteTime": {
     "end_time": "2024-05-01T08:58:07.181245Z",
     "start_time": "2024-05-01T08:58:06.750182Z"
    }
   },
   "cell_type": "code",
   "source": [
    "import statsmodels.api as sm\n",
    "y = combined[:,-1]\n",
    "x = combined[:,:-1]\n",
    "x = sm.add_constant(x, has_constant=\"raise\")\n",
    "mod = sm.OLS(y,x)\n",
    "fit = mod.fit()\n",
    "print(fit.params)\n",
    "fit.summary(xname=[\"cons\"]+all_vars[:-1])\n"
   ],
   "id": "9c149700e398a4f9",
   "outputs": [
    {
     "name": "stdout",
     "output_type": "stream",
     "text": [
      "[ 0.72604217  0.04929428 -0.03627919  0.02234766  0.0634952  -0.02913717\n",
      " -0.01558759  0.00970536 -0.01829715 -0.03319686  0.06803141  0.01828756]\n"
     ]
    },
    {
     "data": {
      "text/plain": [
       "<class 'statsmodels.iolib.summary.Summary'>\n",
       "\"\"\"\n",
       "                            OLS Regression Results                            \n",
       "==============================================================================\n",
       "Dep. Variable:                      y   R-squared:                       0.582\n",
       "Model:                            OLS   Adj. R-squared:                  0.514\n",
       "Method:                 Least Squares   F-statistic:                     8.602\n",
       "Date:                Wed, 01 May 2024   Prob (F-statistic):           2.70e-09\n",
       "Time:                        10:58:07   Log-Likelihood:                 145.32\n",
       "No. Observations:                  80   AIC:                            -266.6\n",
       "Df Residuals:                      68   BIC:                            -238.1\n",
       "Df Model:                          11                                         \n",
       "Covariance Type:            nonrobust                                         \n",
       "==============================================================================\n",
       "                 coef    std err          t      P>|t|      [0.025      0.975]\n",
       "------------------------------------------------------------------------------\n",
       "cons           0.7260      0.024     30.461      0.000       0.678       0.774\n",
       "mamba          0.0493      0.013      3.743      0.000       0.023       0.076\n",
       "diag          -0.0363      0.020     -1.855      0.068      -0.075       0.003\n",
       "10000          0.0223      0.011      2.108      0.039       0.001       0.044\n",
       "1024           0.0635      0.011      5.790      0.000       0.042       0.085\n",
       "true          -0.0291      0.011     -2.749      0.008      -0.050      -0.008\n",
       "b             -0.0156      0.023     -0.687      0.495      -0.061       0.030\n",
       "c              0.0097      0.021      0.454      0.651      -0.033       0.052\n",
       "dt            -0.0183      0.016     -1.177      0.243      -0.049       0.013\n",
       "x             -0.0332      0.015     -2.210      0.030      -0.063      -0.003\n",
       "no_emb         0.0680      0.020      3.362      0.001       0.028       0.108\n",
       "imdb           0.0183      0.010      1.876      0.065      -0.001       0.038\n",
       "==============================================================================\n",
       "Omnibus:                       12.698   Durbin-Watson:                   1.073\n",
       "Prob(Omnibus):                  0.002   Jarque-Bera (JB):                4.562\n",
       "Skew:                          -0.281   Prob(JB):                        0.102\n",
       "Kurtosis:                       1.974   Cond. No.                         12.5\n",
       "==============================================================================\n",
       "\n",
       "Notes:\n",
       "[1] Standard Errors assume that the covariance matrix of the errors is correctly specified.\n",
       "\"\"\""
      ],
      "text/html": [
       "<table class=\"simpletable\">\n",
       "<caption>OLS Regression Results</caption>\n",
       "<tr>\n",
       "  <th>Dep. Variable:</th>            <td>y</td>        <th>  R-squared:         </th> <td>   0.582</td>\n",
       "</tr>\n",
       "<tr>\n",
       "  <th>Model:</th>                   <td>OLS</td>       <th>  Adj. R-squared:    </th> <td>   0.514</td>\n",
       "</tr>\n",
       "<tr>\n",
       "  <th>Method:</th>             <td>Least Squares</td>  <th>  F-statistic:       </th> <td>   8.602</td>\n",
       "</tr>\n",
       "<tr>\n",
       "  <th>Date:</th>             <td>Wed, 01 May 2024</td> <th>  Prob (F-statistic):</th> <td>2.70e-09</td>\n",
       "</tr>\n",
       "<tr>\n",
       "  <th>Time:</th>                 <td>10:58:07</td>     <th>  Log-Likelihood:    </th> <td>  145.32</td>\n",
       "</tr>\n",
       "<tr>\n",
       "  <th>No. Observations:</th>      <td>    80</td>      <th>  AIC:               </th> <td>  -266.6</td>\n",
       "</tr>\n",
       "<tr>\n",
       "  <th>Df Residuals:</th>          <td>    68</td>      <th>  BIC:               </th> <td>  -238.1</td>\n",
       "</tr>\n",
       "<tr>\n",
       "  <th>Df Model:</th>              <td>    11</td>      <th>                     </th>     <td> </td>   \n",
       "</tr>\n",
       "<tr>\n",
       "  <th>Covariance Type:</th>      <td>nonrobust</td>    <th>                     </th>     <td> </td>   \n",
       "</tr>\n",
       "</table>\n",
       "<table class=\"simpletable\">\n",
       "<tr>\n",
       "     <td></td>       <th>coef</th>     <th>std err</th>      <th>t</th>      <th>P>|t|</th>  <th>[0.025</th>    <th>0.975]</th>  \n",
       "</tr>\n",
       "<tr>\n",
       "  <th>cons</th>   <td>    0.7260</td> <td>    0.024</td> <td>   30.461</td> <td> 0.000</td> <td>    0.678</td> <td>    0.774</td>\n",
       "</tr>\n",
       "<tr>\n",
       "  <th>mamba</th>  <td>    0.0493</td> <td>    0.013</td> <td>    3.743</td> <td> 0.000</td> <td>    0.023</td> <td>    0.076</td>\n",
       "</tr>\n",
       "<tr>\n",
       "  <th>diag</th>   <td>   -0.0363</td> <td>    0.020</td> <td>   -1.855</td> <td> 0.068</td> <td>   -0.075</td> <td>    0.003</td>\n",
       "</tr>\n",
       "<tr>\n",
       "  <th>10000</th>  <td>    0.0223</td> <td>    0.011</td> <td>    2.108</td> <td> 0.039</td> <td>    0.001</td> <td>    0.044</td>\n",
       "</tr>\n",
       "<tr>\n",
       "  <th>1024</th>   <td>    0.0635</td> <td>    0.011</td> <td>    5.790</td> <td> 0.000</td> <td>    0.042</td> <td>    0.085</td>\n",
       "</tr>\n",
       "<tr>\n",
       "  <th>true</th>   <td>   -0.0291</td> <td>    0.011</td> <td>   -2.749</td> <td> 0.008</td> <td>   -0.050</td> <td>   -0.008</td>\n",
       "</tr>\n",
       "<tr>\n",
       "  <th>b</th>      <td>   -0.0156</td> <td>    0.023</td> <td>   -0.687</td> <td> 0.495</td> <td>   -0.061</td> <td>    0.030</td>\n",
       "</tr>\n",
       "<tr>\n",
       "  <th>c</th>      <td>    0.0097</td> <td>    0.021</td> <td>    0.454</td> <td> 0.651</td> <td>   -0.033</td> <td>    0.052</td>\n",
       "</tr>\n",
       "<tr>\n",
       "  <th>dt</th>     <td>   -0.0183</td> <td>    0.016</td> <td>   -1.177</td> <td> 0.243</td> <td>   -0.049</td> <td>    0.013</td>\n",
       "</tr>\n",
       "<tr>\n",
       "  <th>x</th>      <td>   -0.0332</td> <td>    0.015</td> <td>   -2.210</td> <td> 0.030</td> <td>   -0.063</td> <td>   -0.003</td>\n",
       "</tr>\n",
       "<tr>\n",
       "  <th>no_emb</th> <td>    0.0680</td> <td>    0.020</td> <td>    3.362</td> <td> 0.001</td> <td>    0.028</td> <td>    0.108</td>\n",
       "</tr>\n",
       "<tr>\n",
       "  <th>imdb</th>   <td>    0.0183</td> <td>    0.010</td> <td>    1.876</td> <td> 0.065</td> <td>   -0.001</td> <td>    0.038</td>\n",
       "</tr>\n",
       "</table>\n",
       "<table class=\"simpletable\">\n",
       "<tr>\n",
       "  <th>Omnibus:</th>       <td>12.698</td> <th>  Durbin-Watson:     </th> <td>   1.073</td>\n",
       "</tr>\n",
       "<tr>\n",
       "  <th>Prob(Omnibus):</th> <td> 0.002</td> <th>  Jarque-Bera (JB):  </th> <td>   4.562</td>\n",
       "</tr>\n",
       "<tr>\n",
       "  <th>Skew:</th>          <td>-0.281</td> <th>  Prob(JB):          </th> <td>   0.102</td>\n",
       "</tr>\n",
       "<tr>\n",
       "  <th>Kurtosis:</th>      <td> 1.974</td> <th>  Cond. No.          </th> <td>    12.5</td>\n",
       "</tr>\n",
       "</table><br/><br/>Notes:<br/>[1] Standard Errors assume that the covariance matrix of the errors is correctly specified."
      ],
      "text/latex": "\\begin{center}\n\\begin{tabular}{lclc}\n\\toprule\n\\textbf{Dep. Variable:}    &        y         & \\textbf{  R-squared:         } &     0.582   \\\\\n\\textbf{Model:}            &       OLS        & \\textbf{  Adj. R-squared:    } &     0.514   \\\\\n\\textbf{Method:}           &  Least Squares   & \\textbf{  F-statistic:       } &     8.602   \\\\\n\\textbf{Date:}             & Wed, 01 May 2024 & \\textbf{  Prob (F-statistic):} &  2.70e-09   \\\\\n\\textbf{Time:}             &     10:58:07     & \\textbf{  Log-Likelihood:    } &    145.32   \\\\\n\\textbf{No. Observations:} &          80      & \\textbf{  AIC:               } &    -266.6   \\\\\n\\textbf{Df Residuals:}     &          68      & \\textbf{  BIC:               } &    -238.1   \\\\\n\\textbf{Df Model:}         &          11      & \\textbf{                     } &             \\\\\n\\textbf{Covariance Type:}  &    nonrobust     & \\textbf{                     } &             \\\\\n\\bottomrule\n\\end{tabular}\n\\begin{tabular}{lcccccc}\n                 & \\textbf{coef} & \\textbf{std err} & \\textbf{t} & \\textbf{P$> |$t$|$} & \\textbf{[0.025} & \\textbf{0.975]}  \\\\\n\\midrule\n\\textbf{cons}    &       0.7260  &        0.024     &    30.461  &         0.000        &        0.678    &        0.774     \\\\\n\\textbf{mamba}   &       0.0493  &        0.013     &     3.743  &         0.000        &        0.023    &        0.076     \\\\\n\\textbf{diag}    &      -0.0363  &        0.020     &    -1.855  &         0.068        &       -0.075    &        0.003     \\\\\n\\textbf{10000}   &       0.0223  &        0.011     &     2.108  &         0.039        &        0.001    &        0.044     \\\\\n\\textbf{1024}    &       0.0635  &        0.011     &     5.790  &         0.000        &        0.042    &        0.085     \\\\\n\\textbf{true}    &      -0.0291  &        0.011     &    -2.749  &         0.008        &       -0.050    &       -0.008     \\\\\n\\textbf{b}       &      -0.0156  &        0.023     &    -0.687  &         0.495        &       -0.061    &        0.030     \\\\\n\\textbf{c}       &       0.0097  &        0.021     &     0.454  &         0.651        &       -0.033    &        0.052     \\\\\n\\textbf{dt}      &      -0.0183  &        0.016     &    -1.177  &         0.243        &       -0.049    &        0.013     \\\\\n\\textbf{x}       &      -0.0332  &        0.015     &    -2.210  &         0.030        &       -0.063    &       -0.003     \\\\\n\\textbf{no\\_emb} &       0.0680  &        0.020     &     3.362  &         0.001        &        0.028    &        0.108     \\\\\n\\textbf{imdb}    &       0.0183  &        0.010     &     1.876  &         0.065        &       -0.001    &        0.038     \\\\\n\\bottomrule\n\\end{tabular}\n\\begin{tabular}{lclc}\n\\textbf{Omnibus:}       & 12.698 & \\textbf{  Durbin-Watson:     } &    1.073  \\\\\n\\textbf{Prob(Omnibus):} &  0.002 & \\textbf{  Jarque-Bera (JB):  } &    4.562  \\\\\n\\textbf{Skew:}          & -0.281 & \\textbf{  Prob(JB):          } &    0.102  \\\\\n\\textbf{Kurtosis:}      &  1.974 & \\textbf{  Cond. No.          } &     12.5  \\\\\n\\bottomrule\n\\end{tabular}\n%\\caption{OLS Regression Results}\n\\end{center}\n\nNotes: \\newline\n [1] Standard Errors assume that the covariance matrix of the errors is correctly specified."
     },
     "execution_count": 5,
     "metadata": {},
     "output_type": "execute_result"
    }
   ],
   "execution_count": 5
  },
  {
   "metadata": {
    "ExecuteTime": {
     "end_time": "2024-05-01T08:58:07.842563Z",
     "start_time": "2024-05-01T08:58:07.182460Z"
    }
   },
   "cell_type": "code",
   "source": [
    "import matplotlib.pyplot as plt\n",
    "plt.style.use(\"ggplot\")\n",
    "num_vars = len(fit.params[1:])\n",
    "\n",
    "params_ = np.array(fit.params[1:])\n",
    "all_vars_ = np.array([\"Mam\", \"s4d\", \"10000\", \"Norm\", \"Train\", \"b\", \"c\", \"dt\", \"x\", \"NoPos\", \"IMDB\"])#np.array(all_vars[:-1])\n",
    "se_ = np.array(fit.bse[1:])\n",
    "sorted_args = np.argsort(params_)[::-1]\n",
    "print(sorted_args)\n",
    "print(params_)\n",
    "\n",
    "params = params_[sorted_args]\n",
    "se = se_[sorted_args]\n",
    "all_var_names = all_vars_[sorted_args]\n",
    "\n",
    "\n",
    "colors = []\n",
    "plt.figure(figsize=(7,4))     \n",
    "ax = plt.subplot(111)\n",
    "for i in range(num_vars):\n",
    "   if ((params[i]-1.96*se[i] < 0) and  (params[i]+1.96*se[i] < 0))  or ((params[i]-1.96*se[i] > 0) and  (params[i]+1.96*se[i] > 0)):\n",
    "      color=\"cornflowerblue\"\n",
    "      alpha=1.\n",
    "   else:\n",
    "      color=\"slategray\"\n",
    "      alpha=0.6\n",
    "   colors.append(color)\n",
    "   plt.scatter(i, params[i], color=color)\n",
    "   plt.vlines(i, params[i]-1.96*se[i], params[i]+1.96*se[i], color=color, alpha=0.5)\n",
    "\n",
    "plt.xticks(range(num_vars), all_var_names)\n",
    "for xtick, color in zip(ax.get_xticklabels(), colors):\n",
    "    xtick.set_color(color)\n",
    "\n",
    "import matplotlib.patches as mpatches\n",
    "red_patch = [\n",
    "           mpatches.Patch(color='cornflowerblue', label='Significant'),\n",
    "           mpatches.Patch(color='slategray', label='Insignificant'),\n",
    "          ]\n",
    "\n",
    "plt.legend(handles=red_patch, ncol=2)\n",
    "\n",
    "plt.axhline(0, color=\"gray\", alpha=0.5, linestyle=\"--\")\n",
    "plt.grid(axis=\"x\")\n",
    "plt.title(\"OLS estimates with 95% CI\")\n",
    "plt.tight_layout()\n",
    "plt.savefig(f\"data/exp2/ols_coef_ci_pos_emb.png\", dpi=200)\n"
   ],
   "id": "84091adb8d429f25",
   "outputs": [
    {
     "name": "stdout",
     "output_type": "stream",
     "text": [
      "[ 9  3  0  2 10  6  5  7  4  8  1]\n",
      "[ 0.04929428 -0.03627919  0.02234766  0.0634952  -0.02913717 -0.01558759\n",
      "  0.00970536 -0.01829715 -0.03319686  0.06803141  0.01828756]\n"
     ]
    },
    {
     "data": {
      "text/plain": [
       "<Figure size 700x400 with 1 Axes>"
      ],
      "image/png": "[encoded data removed]"
     },
     "metadata": {},
     "output_type": "display_data"
    }
   ],
   "execution_count": 6
  },
  {
   "metadata": {
    "ExecuteTime": {
     "end_time": "2024-05-01T08:58:07.847852Z",
     "start_time": "2024-05-01T08:58:07.843465Z"
    }
   },
   "cell_type": "code",
   "source": [
    "all_vars__ = np.array([\"Mam\", \"s4d\", \"10000\", \"Norm\", \"Train\", \"b\", \"c\", \"dt\", \"x\", \"NoPos\", \"IMDB\", \"Acc\"])\n",
    "\n",
    "df = np.vstack((np.array(all_vars__), \n",
    "                imdb_ols_data.sum(axis=0).astype(int), \n",
    "                cifar10_ols_data.sum(axis=0).astype(int),\n",
    "                combined.sum(axis=0).astype(int), \n",
    "                combined.mean(axis=0).round(3))) \n",
    "df"
   ],
   "id": "73c1837d71f58d9f",
   "outputs": [
    {
     "data": {
      "text/plain": [
       "array([['Mam', 's4d', '10000', 'Norm', 'Train', 'b', 'c', 'dt', 'x',\n",
       "        'NoPos', 'IMDB', 'Acc'],\n",
       "       ['30', '18', '17', '22', '15', '13', '13', '10', '8', '4', '39',\n",
       "        '30'],\n",
       "       ['29', '24', '18', '23', '18', '12', '11', '11', '8', '3', '0',\n",
       "        '31'],\n",
       "       ['59', '42', '35', '45', '33', '25', '24', '21', '16', '7', '39',\n",
       "        '62'],\n",
       "       ['0.738', '0.525', '0.438', '0.562', '0.412', '0.312', '0.3',\n",
       "        '0.262', '0.2', '0.088', '0.488', '0.778']], dtype='<U32')"
      ]
     },
     "execution_count": 7,
     "metadata": {},
     "output_type": "execute_result"
    }
   ],
   "execution_count": 7
  },
  {
   "metadata": {
    "ExecuteTime": {
     "end_time": "2024-05-01T08:58:07.852820Z",
     "start_time": "2024-05-01T08:58:07.848850Z"
    }
   },
   "cell_type": "code",
   "source": [
    "df[1,-1] = imdb_ols_data.mean(axis=0).round(3)[-1]\n",
    "df[2,-1] = cifar10_ols_data.mean(axis=0).round(3)[-1]\n",
    "df[3,-1] = None\n",
    "df"
   ],
   "id": "6587c75393cf7303",
   "outputs": [
    {
     "data": {
      "text/plain": [
       "array([['Mam', 's4d', '10000', 'Norm', 'Train', 'b', 'c', 'dt', 'x',\n",
       "        'NoPos', 'IMDB', 'Acc'],\n",
       "       ['30', '18', '17', '22', '15', '13', '13', '10', '8', '4', '39',\n",
       "        '0.793'],\n",
       "       ['29', '24', '18', '23', '18', '12', '11', '11', '8', '3', '0',\n",
       "        '0.764'],\n",
       "       ['59', '42', '35', '45', '33', '25', '24', '21', '16', '7', '39',\n",
       "        'None'],\n",
       "       ['0.738', '0.525', '0.438', '0.562', '0.412', '0.312', '0.3',\n",
       "        '0.262', '0.2', '0.088', '0.488', '0.778']], dtype='<U32')"
      ]
     },
     "execution_count": 8,
     "metadata": {},
     "output_type": "execute_result"
    }
   ],
   "execution_count": 8
  },
  {
   "metadata": {
    "ExecuteTime": {
     "end_time": "2024-05-01T08:58:07.855715Z",
     "start_time": "2024-05-01T08:58:07.853850Z"
    }
   },
   "cell_type": "code",
   "source": "",
   "id": "146ca082549d8f24",
   "outputs": [],
   "execution_count": 8
  }
 ],
 "metadata": {
  "kernelspec": {
   "display_name": "Python 3",
   "language": "python",
   "name": "python3"
  },
  "language_info": {
   "codemirror_mode": {
    "name": "ipython",
    "version": 2
   },
   "file_extension": ".py",
   "mimetype": "text/x-python",
   "name": "python",
   "nbconvert_exporter": "python",
   "pygments_lexer": "ipython2",
   "version": "2.7.6"
  }
 },
 "nbformat": 4,
 "nbformat_minor": 5
}
