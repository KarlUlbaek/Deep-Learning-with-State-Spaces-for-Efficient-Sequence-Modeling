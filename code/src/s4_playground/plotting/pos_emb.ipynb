{
 "cells": [
  {
   "cell_type": "code",
   "id": "initial_id",
   "metadata": {
    "collapsed": true,
    "ExecuteTime": {
     "end_time": "2024-04-29T19:03:09.458667Z",
     "start_time": "2024-04-29T19:03:09.456338Z"
    }
   },
   "source": [
    "import pandas as pd\n",
    "import numpy as np"
   ],
   "outputs": [],
   "execution_count": 14
  },
  {
   "metadata": {
    "ExecuteTime": {
     "end_time": "2024-04-29T20:22:11.673233Z",
     "start_time": "2024-04-29T20:22:11.660766Z"
    }
   },
   "cell_type": "code",
   "source": [
    "#def rename_columns(path = \"data/cifar10_cons.csv\"):\n",
    "path = \"data/exp2/imdb_pos_emb_test.csv\"\n",
    "df = pd.read_csv(path)\n",
    "df = df.drop([\"Step\"], axis='columns')\n",
    "min_max = [col for col in list(df.columns) if \"MIN\" in col or \"MAX\" in col]\n",
    "df = df.drop(min_max, axis='columns')\n",
    "\n",
    "not_all = [col for col in list(df.columns) if \"\\'first\\'\" in col or \"\\'everyother\\'\"  in col]\n",
    "print(\"not all\", not_all)\n",
    "df = df.drop(not_all, axis='columns')\n",
    "df = df.dropna(axis = \"columns\")\n",
    "df = df.rename(columns={name: name.lower()[:-11] for name in list(df.columns)})\n",
    "\n",
    "imdb = True\n",
    "vars = [\"mamba\", \"diag\",\"10000\", \"1024\", \"true\"]\n",
    "bonus_vars = [\"b\", \"c\", \"dt\", \"x\"]\n",
    "final_vars = [\"no_emb\", \"imdb\",\"acc\"]\n",
    "all_vars = vars + bonus_vars + final_vars\n",
    "num_vars = len(all_vars)\n",
    "old_names = list(df.columns)\n",
    "\n",
    "\n",
    "binary_data = np.zeros((len(df.columns), num_vars))\n",
    "for name_dix, name in enumerate(old_names):\n",
    "    for var_idx, var in enumerate(vars):\n",
    "        if var in name:\n",
    "            binary_data[name_dix, var_idx] = 1.\n",
    "        \n",
    "        # get b,c,dt,x for s6\n",
    "        if \"s6\" in name and \"[\" in name:\n",
    "            subset = name.split(\" \")[-1]\n",
    "            for var_idx2, var in enumerate(bonus_vars):\n",
    "                if var in subset:\n",
    "                    binary_data[name_dix, len(vars) + var_idx2] = 1.\n",
    "        \n",
    "        # get acc and dataset\n",
    "        acc = df[name].values[-1]\n",
    "        binary_data[name_dix, -1] = acc\n",
    "        imdb_ = imdb\n",
    "        if imdb_:\n",
    "            binary_data[name_dix, -2] = 1\n",
    "           \n",
    "        # no embs at all\n",
    "        if len(name.split(\" \")) < 3:\n",
    "            binary_data[name_dix, -3] = 1\n",
    "            \n",
    "            #print(name)\n",
    "            \n",
    "          \n",
    "            \n",
    "    # old_name = name\n",
    "    # name = name.lower()\n",
    "    # new_name = \"\"\n",
    "    # if \"classicmodel\" in name:\n",
    "    #     new_name += \"Simple-\"\n",
    "    # elif \"mamba\" in name:\n",
    "    #     new_name += \"Mamba-\"\n",
    "    # else:\n",
    "    #     raise NameError\n",
    "    # \n",
    "    # if \"diag\" in name:\n",
    "    #     new_name += \"s4d\"\n",
    "    # elif \"dplr\" in name:\n",
    "    #     new_name += \"s4\"\n",
    "    # elif \"s6\" in name:\n",
    "    #     new_name += \"s6\"\n",
    "    # else:\n",
    "    #     raise NameError\n",
    "    # \n",
    "    # df = df.rename(columns={old_name: new_name})\n",
    "#df = df.reindex(sorted(df.columns, reverse=True), axis=1)\n",
    "#df.file_name = path\n",
    "    #return df\n",
    "\n",
    "#df = rename_columns()"
   ],
   "id": "2f11538e3956e906",
   "outputs": [
    {
     "name": "stdout",
     "output_type": "stream",
     "text": [
      "not all []\n"
     ]
    }
   ],
   "execution_count": 74
  },
  {
   "metadata": {
    "ExecuteTime": {
     "end_time": "2024-04-29T20:22:14.372316Z",
     "start_time": "2024-04-29T20:22:14.369138Z"
    }
   },
   "cell_type": "code",
   "source": "print(list(zip(all_vars, binary_data.mean(axis=0))))",
   "id": "17c17bed1116890a",
   "outputs": [
    {
     "name": "stdout",
     "output_type": "stream",
     "text": [
      "[('mamba', 0.7142857142857143), ('diag', 0.32142857142857145), ('10000', 0.4642857142857143), ('1024', 0.6428571428571429), ('true', 0.39285714285714285), ('b', 0.42857142857142855), ('c', 0.42857142857142855), ('dt', 0.35714285714285715), ('x', 0.2857142857142857), ('no_emb', 0.03571428571428571), ('imdb', 1.0), ('acc', 0.7929699949114665)]\n"
     ]
    }
   ],
   "execution_count": 75
  },
  {
   "metadata": {
    "ExecuteTime": {
     "end_time": "2024-04-29T20:22:18.610492Z",
     "start_time": "2024-04-29T20:22:18.604547Z"
    }
   },
   "cell_type": "code",
   "source": "binary_data[:,:-1]",
   "id": "c5132471eb58a8b5",
   "outputs": [
    {
     "data": {
      "text/plain": [
       "array([[1., 1., 0., 1., 1., 0., 0., 0., 0., 0., 1.],\n",
       "       [0., 1., 1., 0., 0., 0., 0., 0., 0., 0., 1.],\n",
       "       [0., 1., 1., 0., 1., 0., 0., 0., 0., 0., 1.],\n",
       "       [0., 1., 1., 1., 0., 0., 0., 0., 0., 0., 1.],\n",
       "       [0., 1., 1., 1., 1., 0., 0., 0., 0., 0., 1.],\n",
       "       [0., 1., 0., 0., 0., 0., 0., 0., 0., 0., 1.],\n",
       "       [0., 1., 0., 0., 1., 0., 0., 0., 0., 0., 1.],\n",
       "       [0., 1., 0., 1., 0., 0., 0., 0., 0., 0., 1.],\n",
       "       [0., 1., 0., 1., 1., 0., 0., 0., 0., 0., 1.],\n",
       "       [1., 0., 1., 1., 1., 1., 1., 1., 1., 0., 1.],\n",
       "       [1., 0., 1., 1., 0., 1., 1., 1., 1., 0., 1.],\n",
       "       [1., 0., 1., 1., 1., 1., 1., 1., 0., 0., 1.],\n",
       "       [1., 0., 1., 1., 0., 1., 1., 1., 0., 0., 1.],\n",
       "       [1., 0., 1., 0., 0., 1., 1., 0., 1., 0., 1.],\n",
       "       [1., 0., 1., 0., 0., 0., 0., 0., 1., 0., 1.],\n",
       "       [1., 0., 0., 1., 0., 0., 0., 1., 0., 0., 1.],\n",
       "       [1., 0., 1., 0., 0., 1., 1., 1., 0., 0., 1.],\n",
       "       [1., 0., 0., 1., 0., 1., 1., 0., 0., 0., 1.],\n",
       "       [1., 0., 1., 0., 0., 0., 0., 1., 0., 0., 1.],\n",
       "       [1., 0., 0., 0., 0., 0., 0., 0., 0., 1., 1.],\n",
       "       [1., 0., 1., 0., 0., 1., 1., 0., 0., 0., 1.],\n",
       "       [1., 0., 0., 1., 1., 1., 1., 0., 1., 0., 1.],\n",
       "       [1., 0., 0., 1., 1., 0., 0., 0., 1., 0., 1.],\n",
       "       [1., 0., 0., 1., 0., 1., 1., 0., 1., 0., 1.],\n",
       "       [1., 0., 0., 1., 1., 1., 1., 1., 0., 0., 1.],\n",
       "       [1., 0., 0., 1., 0., 0., 0., 0., 1., 0., 1.],\n",
       "       [1., 0., 0., 1., 1., 0., 0., 1., 0., 0., 1.],\n",
       "       [1., 0., 0., 1., 0., 1., 1., 1., 0., 0., 1.]])"
      ]
     },
     "execution_count": 76,
     "metadata": {},
     "output_type": "execute_result"
    }
   ],
   "execution_count": 76
  },
  {
   "metadata": {},
   "cell_type": "code",
   "outputs": [],
   "execution_count": null,
   "source": "df.datafram",
   "id": "6c0d97da414efdc2"
  },
  {
   "metadata": {
    "ExecuteTime": {
     "end_time": "2024-04-29T20:22:35.364866Z",
     "start_time": "2024-04-29T20:22:35.338080Z"
    }
   },
   "cell_type": "code",
   "source": [
    "import statsmodels.api as sm\n",
    "y = binary_data[:,-1]\n",
    "x = binary_data[:,:-2]\n",
    "x = sm.add_constant(x, has_constant=\"raise\")\n",
    "mod = sm.OLS(y,x)\n",
    "fit = mod.fit()\n",
    "print(fit.params)\n",
    "fit.summary(xname=[\"cons\"]+all_vars[:-2])\n"
   ],
   "id": "9c149700e398a4f9",
   "outputs": [
    {
     "name": "stdout",
     "output_type": "stream",
     "text": [
      "[ 0.65708796  0.15340161 -0.00648068  0.02509435  0.05045993 -0.01342887\n",
      " -0.00391905 -0.00391905 -0.0083542  -0.0193485   0.04059043]\n"
     ]
    },
    {
     "data": {
      "text/plain": [
       "<class 'statsmodels.iolib.summary.Summary'>\n",
       "\"\"\"\n",
       "                            OLS Regression Results                            \n",
       "==============================================================================\n",
       "Dep. Variable:                      y   R-squared:                       0.959\n",
       "Model:                            OLS   Adj. R-squared:                  0.938\n",
       "Method:                 Least Squares   F-statistic:                     46.41\n",
       "Date:                Mon, 29 Apr 2024   Prob (F-statistic):           1.24e-10\n",
       "Time:                        22:22:35   Log-Likelihood:                 77.500\n",
       "No. Observations:                  28   AIC:                            -135.0\n",
       "Df Residuals:                      18   BIC:                            -121.7\n",
       "Df Model:                           9                                         \n",
       "Covariance Type:            nonrobust                                         \n",
       "==============================================================================\n",
       "                 coef    std err          t      P>|t|      [0.025      0.975]\n",
       "------------------------------------------------------------------------------\n",
       "cons           0.6571      0.024     27.161      0.000       0.606       0.708\n",
       "mamba          0.1534      0.021      7.371      0.000       0.110       0.197\n",
       "diag          -0.0065      0.024     -0.269      0.791      -0.057       0.044\n",
       "10000          0.0251      0.009      2.764      0.013       0.006       0.044\n",
       "1024           0.0505      0.010      5.205      0.000       0.030       0.071\n",
       "true          -0.0134      0.008     -1.633      0.120      -0.031       0.004\n",
       "b             -0.0039      0.005     -0.794      0.437      -0.014       0.006\n",
       "c             -0.0039      0.005     -0.794      0.437      -0.014       0.006\n",
       "dt            -0.0084      0.012     -0.697      0.495      -0.034       0.017\n",
       "x             -0.0193      0.011     -1.700      0.106      -0.043       0.005\n",
       "no_emb         0.0406      0.023      1.766      0.094      -0.008       0.089\n",
       "==============================================================================\n",
       "Omnibus:                        0.139   Durbin-Watson:                   2.105\n",
       "Prob(Omnibus):                  0.933   Jarque-Bera (JB):                0.336\n",
       "Skew:                          -0.110   Prob(JB):                        0.845\n",
       "Kurtosis:                       2.510   Cond. No.                     2.57e+16\n",
       "==============================================================================\n",
       "\n",
       "Notes:\n",
       "[1] Standard Errors assume that the covariance matrix of the errors is correctly specified.\n",
       "[2] The smallest eigenvalue is 1.38e-31. This might indicate that there are\n",
       "strong multicollinearity problems or that the design matrix is singular.\n",
       "\"\"\""
      ],
      "text/html": [
       "<table class=\"simpletable\">\n",
       "<caption>OLS Regression Results</caption>\n",
       "<tr>\n",
       "  <th>Dep. Variable:</th>            <td>y</td>        <th>  R-squared:         </th> <td>   0.959</td>\n",
       "</tr>\n",
       "<tr>\n",
       "  <th>Model:</th>                   <td>OLS</td>       <th>  Adj. R-squared:    </th> <td>   0.938</td>\n",
       "</tr>\n",
       "<tr>\n",
       "  <th>Method:</th>             <td>Least Squares</td>  <th>  F-statistic:       </th> <td>   46.41</td>\n",
       "</tr>\n",
       "<tr>\n",
       "  <th>Date:</th>             <td>Mon, 29 Apr 2024</td> <th>  Prob (F-statistic):</th> <td>1.24e-10</td>\n",
       "</tr>\n",
       "<tr>\n",
       "  <th>Time:</th>                 <td>22:22:35</td>     <th>  Log-Likelihood:    </th> <td>  77.500</td>\n",
       "</tr>\n",
       "<tr>\n",
       "  <th>No. Observations:</th>      <td>    28</td>      <th>  AIC:               </th> <td>  -135.0</td>\n",
       "</tr>\n",
       "<tr>\n",
       "  <th>Df Residuals:</th>          <td>    18</td>      <th>  BIC:               </th> <td>  -121.7</td>\n",
       "</tr>\n",
       "<tr>\n",
       "  <th>Df Model:</th>              <td>     9</td>      <th>                     </th>     <td> </td>   \n",
       "</tr>\n",
       "<tr>\n",
       "  <th>Covariance Type:</th>      <td>nonrobust</td>    <th>                     </th>     <td> </td>   \n",
       "</tr>\n",
       "</table>\n",
       "<table class=\"simpletable\">\n",
       "<tr>\n",
       "     <td></td>       <th>coef</th>     <th>std err</th>      <th>t</th>      <th>P>|t|</th>  <th>[0.025</th>    <th>0.975]</th>  \n",
       "</tr>\n",
       "<tr>\n",
       "  <th>cons</th>   <td>    0.6571</td> <td>    0.024</td> <td>   27.161</td> <td> 0.000</td> <td>    0.606</td> <td>    0.708</td>\n",
       "</tr>\n",
       "<tr>\n",
       "  <th>mamba</th>  <td>    0.1534</td> <td>    0.021</td> <td>    7.371</td> <td> 0.000</td> <td>    0.110</td> <td>    0.197</td>\n",
       "</tr>\n",
       "<tr>\n",
       "  <th>diag</th>   <td>   -0.0065</td> <td>    0.024</td> <td>   -0.269</td> <td> 0.791</td> <td>   -0.057</td> <td>    0.044</td>\n",
       "</tr>\n",
       "<tr>\n",
       "  <th>10000</th>  <td>    0.0251</td> <td>    0.009</td> <td>    2.764</td> <td> 0.013</td> <td>    0.006</td> <td>    0.044</td>\n",
       "</tr>\n",
       "<tr>\n",
       "  <th>1024</th>   <td>    0.0505</td> <td>    0.010</td> <td>    5.205</td> <td> 0.000</td> <td>    0.030</td> <td>    0.071</td>\n",
       "</tr>\n",
       "<tr>\n",
       "  <th>true</th>   <td>   -0.0134</td> <td>    0.008</td> <td>   -1.633</td> <td> 0.120</td> <td>   -0.031</td> <td>    0.004</td>\n",
       "</tr>\n",
       "<tr>\n",
       "  <th>b</th>      <td>   -0.0039</td> <td>    0.005</td> <td>   -0.794</td> <td> 0.437</td> <td>   -0.014</td> <td>    0.006</td>\n",
       "</tr>\n",
       "<tr>\n",
       "  <th>c</th>      <td>   -0.0039</td> <td>    0.005</td> <td>   -0.794</td> <td> 0.437</td> <td>   -0.014</td> <td>    0.006</td>\n",
       "</tr>\n",
       "<tr>\n",
       "  <th>dt</th>     <td>   -0.0084</td> <td>    0.012</td> <td>   -0.697</td> <td> 0.495</td> <td>   -0.034</td> <td>    0.017</td>\n",
       "</tr>\n",
       "<tr>\n",
       "  <th>x</th>      <td>   -0.0193</td> <td>    0.011</td> <td>   -1.700</td> <td> 0.106</td> <td>   -0.043</td> <td>    0.005</td>\n",
       "</tr>\n",
       "<tr>\n",
       "  <th>no_emb</th> <td>    0.0406</td> <td>    0.023</td> <td>    1.766</td> <td> 0.094</td> <td>   -0.008</td> <td>    0.089</td>\n",
       "</tr>\n",
       "</table>\n",
       "<table class=\"simpletable\">\n",
       "<tr>\n",
       "  <th>Omnibus:</th>       <td> 0.139</td> <th>  Durbin-Watson:     </th> <td>   2.105</td>\n",
       "</tr>\n",
       "<tr>\n",
       "  <th>Prob(Omnibus):</th> <td> 0.933</td> <th>  Jarque-Bera (JB):  </th> <td>   0.336</td>\n",
       "</tr>\n",
       "<tr>\n",
       "  <th>Skew:</th>          <td>-0.110</td> <th>  Prob(JB):          </th> <td>   0.845</td>\n",
       "</tr>\n",
       "<tr>\n",
       "  <th>Kurtosis:</th>      <td> 2.510</td> <th>  Cond. No.          </th> <td>2.57e+16</td>\n",
       "</tr>\n",
       "</table><br/><br/>Notes:<br/>[1] Standard Errors assume that the covariance matrix of the errors is correctly specified.<br/>[2] The smallest eigenvalue is 1.38e-31. This might indicate that there are<br/>strong multicollinearity problems or that the design matrix is singular."
      ],
      "text/latex": "\\begin{center}\n\\begin{tabular}{lclc}\n\\toprule\n\\textbf{Dep. Variable:}    &        y         & \\textbf{  R-squared:         } &     0.959   \\\\\n\\textbf{Model:}            &       OLS        & \\textbf{  Adj. R-squared:    } &     0.938   \\\\\n\\textbf{Method:}           &  Least Squares   & \\textbf{  F-statistic:       } &     46.41   \\\\\n\\textbf{Date:}             & Mon, 29 Apr 2024 & \\textbf{  Prob (F-statistic):} &  1.24e-10   \\\\\n\\textbf{Time:}             &     22:22:35     & \\textbf{  Log-Likelihood:    } &    77.500   \\\\\n\\textbf{No. Observations:} &          28      & \\textbf{  AIC:               } &    -135.0   \\\\\n\\textbf{Df Residuals:}     &          18      & \\textbf{  BIC:               } &    -121.7   \\\\\n\\textbf{Df Model:}         &           9      & \\textbf{                     } &             \\\\\n\\textbf{Covariance Type:}  &    nonrobust     & \\textbf{                     } &             \\\\\n\\bottomrule\n\\end{tabular}\n\\begin{tabular}{lcccccc}\n                 & \\textbf{coef} & \\textbf{std err} & \\textbf{t} & \\textbf{P$> |$t$|$} & \\textbf{[0.025} & \\textbf{0.975]}  \\\\\n\\midrule\n\\textbf{cons}    &       0.6571  &        0.024     &    27.161  &         0.000        &        0.606    &        0.708     \\\\\n\\textbf{mamba}   &       0.1534  &        0.021     &     7.371  &         0.000        &        0.110    &        0.197     \\\\\n\\textbf{diag}    &      -0.0065  &        0.024     &    -0.269  &         0.791        &       -0.057    &        0.044     \\\\\n\\textbf{10000}   &       0.0251  &        0.009     &     2.764  &         0.013        &        0.006    &        0.044     \\\\\n\\textbf{1024}    &       0.0505  &        0.010     &     5.205  &         0.000        &        0.030    &        0.071     \\\\\n\\textbf{true}    &      -0.0134  &        0.008     &    -1.633  &         0.120        &       -0.031    &        0.004     \\\\\n\\textbf{b}       &      -0.0039  &        0.005     &    -0.794  &         0.437        &       -0.014    &        0.006     \\\\\n\\textbf{c}       &      -0.0039  &        0.005     &    -0.794  &         0.437        &       -0.014    &        0.006     \\\\\n\\textbf{dt}      &      -0.0084  &        0.012     &    -0.697  &         0.495        &       -0.034    &        0.017     \\\\\n\\textbf{x}       &      -0.0193  &        0.011     &    -1.700  &         0.106        &       -0.043    &        0.005     \\\\\n\\textbf{no\\_emb} &       0.0406  &        0.023     &     1.766  &         0.094        &       -0.008    &        0.089     \\\\\n\\bottomrule\n\\end{tabular}\n\\begin{tabular}{lclc}\n\\textbf{Omnibus:}       &  0.139 & \\textbf{  Durbin-Watson:     } &    2.105  \\\\\n\\textbf{Prob(Omnibus):} &  0.933 & \\textbf{  Jarque-Bera (JB):  } &    0.336  \\\\\n\\textbf{Skew:}          & -0.110 & \\textbf{  Prob(JB):          } &    0.845  \\\\\n\\textbf{Kurtosis:}      &  2.510 & \\textbf{  Cond. No.          } & 2.57e+16  \\\\\n\\bottomrule\n\\end{tabular}\n%\\caption{OLS Regression Results}\n\\end{center}\n\nNotes: \\newline\n [1] Standard Errors assume that the covariance matrix of the errors is correctly specified. \\newline\n [2] The smallest eigenvalue is 1.38e-31. This might indicate that there are \\newline\n strong multicollinearity problems or that the design matrix is singular."
     },
     "execution_count": 79,
     "metadata": {},
     "output_type": "execute_result"
    }
   ],
   "execution_count": 79
  }
 ],
 "metadata": {
  "kernelspec": {
   "display_name": "Python 3",
   "language": "python",
   "name": "python3"
  },
  "language_info": {
   "codemirror_mode": {
    "name": "ipython",
    "version": 2
   },
   "file_extension": ".py",
   "mimetype": "text/x-python",
   "name": "python",
   "nbconvert_exporter": "python",
   "pygments_lexer": "ipython2",
   "version": "2.7.6"
  }
 },
 "nbformat": 4,
 "nbformat_minor": 5
}
