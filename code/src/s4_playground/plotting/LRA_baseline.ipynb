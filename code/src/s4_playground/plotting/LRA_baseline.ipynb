{
 "cells": [
  {
   "cell_type": "code",
   "id": "initial_id",
   "metadata": {
    "collapsed": true,
    "ExecuteTime": {
     "end_time": "2024-04-24T07:09:41.379025Z",
     "start_time": "2024-04-24T07:09:40.976143Z"
    }
   },
   "source": "import pandas as pd",
   "execution_count": 1,
   "outputs": []
  },
  {
   "metadata": {
    "ExecuteTime": {
     "end_time": "2024-04-24T07:09:41.391186Z",
     "start_time": "2024-04-24T07:09:41.380229Z"
    }
   },
   "cell_type": "code",
   "source": [
    "def rename_columns(path = \"data/cifar10_cons.csv\"):\n",
    "    df = pd.read_csv(path)\n",
    "    df = df.drop([\"Step\"], axis='columns')\n",
    "    min_max = [col for col in list(df.columns) if \"MIN\" in col or \"MAX\" in col]\n",
    "    df = df.drop(min_max, axis='columns')\n",
    "    \n",
    "    old_names = list(df.columns)\n",
    "    for name in old_names:\n",
    "        old_name = name\n",
    "        name = name.lower()\n",
    "        new_name = \"\"\n",
    "        if \"classicmodel\" in name:\n",
    "            new_name += \"Simple-\"\n",
    "        elif \"mamba\" in name:\n",
    "            new_name += \"Mamba-\"\n",
    "        else:\n",
    "            raise NameError\n",
    "       \n",
    "        if \"diag\" in name:\n",
    "            new_name += \"s4d\"\n",
    "        elif \"dplr\" in name:\n",
    "            new_name += \"s4\"\n",
    "        elif \"s6\" in name:\n",
    "            new_name += \"s6\"\n",
    "        else:\n",
    "            raise NameError\n",
    "       \n",
    "        df = df.rename(columns={old_name: new_name})\n",
    "    df = df.reindex(sorted(df.columns, reverse=True), axis=1)\n",
    "    df.file_name = path\n",
    "    return df\n",
    "\n",
    "df = rename_columns()\n",
    "    "
   ],
   "id": "9c48aef935b2b417",
   "execution_count": 2,
   "outputs": []
  },
  {
   "metadata": {
    "ExecuteTime": {
     "end_time": "2024-04-24T07:09:41.403026Z",
     "start_time": "2024-04-24T07:09:41.392115Z"
    }
   },
   "cell_type": "code",
   "source": "df",
   "id": "217cbf2da0b63b18",
   "execution_count": 3,
   "outputs": []
  },
  {
   "metadata": {
    "ExecuteTime": {
     "end_time": "2024-04-24T07:09:42.170658Z",
     "start_time": "2024-04-24T07:09:41.404953Z"
    }
   },
   "cell_type": "code",
   "source": [
    "import matplotlib.pyplot as plt\n",
    "plt.style.use(\"ggplot\")\n",
    "colors = {'Simple-s4d':\"indianred\", \n",
    "          'Simple-s4':\"mediumseagreen\", \n",
    "          'Mamba-s6':\"cornflowerblue\",\n",
    "          'Mamba-s4d':\"indianred\", \n",
    "          'Mamba-s4':\"mediumseagreen\"}\n",
    "\n",
    "def basic_plotter(df, plot_name=None, lim=(0.7, 0.9)):\n",
    "    fig = plt.figure()\n",
    "    e_r = range(1, len(df)+1)\n",
    "    for name in list(df.columns):\n",
    "        ls = \"--\" if \"Simple\" in name else \"-\"\n",
    "        alpha = 0.7 if \"mediumseagreen\" in colors[name] else 1.0\n",
    "        plt.plot(e_r, df[name], color=colors[name], linestyle=ls, alpha=alpha, label=name)\n",
    "       \n",
    "    plt.ylim(lim)\n",
    "    plt.xlabel(\"epochs\")\n",
    "    plt.ylabel(\"validation accuracy\")\n",
    "    if plot_name is not None:\n",
    "        plt.title(plot_name)\n",
    "    plt.legend()\n",
    "    save_fig_name = plot_name + \".png\" if plot_name is not None else \"tmp.png\"\n",
    "    save_fig_name = \"data/exp1/\" + save_fig_name\n",
    "    plt.tight_layout()\n",
    "    plt.savefig(save_fig_name, dpi=200)\n",
    "    print(plot_name, \": \",df.file_name)\n",
    "    final = {name:df[name].values[-1] for name in list(df.columns) }\n",
    "    print({key: str(val)[:5] for key, val in final.items()})\n",
    "    return final\n",
    "\n",
    "df = rename_columns(path = \"data/cifar10_cons.csv\")\n",
    "_ = basic_plotter(df, \"Cifar10 continuous\")"
   ],
   "id": "c7c184a9bb92a314",
   "execution_count": 4,
   "outputs": []
  },
  {
   "metadata": {
    "ExecuteTime": {
     "end_time": "2024-04-24T07:10:08.511572Z",
     "start_time": "2024-04-24T07:10:06.853896Z"
    }
   },
   "cell_type": "code",
   "source": [
    "csvs = [\"data/cifar10_cons.csv\", \"data/cifar10_token.csv\", \"data/imdb.csv\",\"data/pathfinder_cons.csv\", \"data/pathfinder_token.csv\"]\n",
    "names = [\"Cifar10 continuous\", \"Cifar10 discrete\", \"IMDB\", \"Fathfinder continuous\", \"Fathfinder discrete\"]\n",
    "lims = [(0.7, 0.88), (0.6, 0.8), (0.55, 0.95), (0.45, 1.0), (0.45, 1.0)]\n",
    "\n",
    "\n",
    "for idx, (csv, name, lim) in enumerate(zip(csvs, names, lims)):\n",
    "    df = rename_columns(csv)\n",
    "    if idx == 0:\n",
    "        running_avg = basic_plotter(df, plot_name=name, lim=lim)\n",
    "    else:\n",
    "        running_avg_ = basic_plotter(df, plot_name=name, lim=lim)\n",
    "        if name != \"Fathfinder continuous\" and name != \"Cifar10 discrete\":\n",
    "            for name in running_avg.keys():\n",
    "                running_avg[name] += running_avg_[name]\n",
    "             \n",
    "\n",
    "for name in running_avg.keys():\n",
    "    running_avg[name] = running_avg[name] / 3\n",
    "print(running_avg)\n",
    "        \n",
    "       "
   ],
   "id": "a01b51d2a430f2a2",
   "execution_count": 8,
   "outputs": []
  },
  {
   "metadata": {
    "ExecuteTime": {
     "end_time": "2024-04-24T07:09:44.171437Z",
     "start_time": "2024-04-24T07:09:43.841372Z"
    }
   },
   "cell_type": "code",
   "source": [
    "import re\n",
    "df = pd.read_csv(\"data/s6_dropout_exp.csv\")\n",
    "df = df.drop([\"Step\"], axis='columns')\n",
    "min_max = [col for col in list(df.columns) if \"MIN\" in col or \"MAX\" in col]\n",
    "df = df.drop(min_max, axis='columns')\n",
    "df.head()\n",
    "\n",
    "plt.plot(range(1,26), df)\n",
    "vals = [re.findall(\"\\d+\\.\\d+\", dropout)[0] for dropout in list(df.columns)]\n",
    "#vals = [\"0.0\",\"0.075\", \"0.15\", \"0.225\"]\n",
    "#vals.reverse()\n",
    "plt.legend(vals)\n",
    "plt.xlabel(\"epochs\")\n",
    "plt.ylabel(\"validation accuracy\")\n",
    "plt.ylim(0.6, 0.82)\n",
    "plt.title(\"Dropout amount Mamba-s6 (cifar10 continuous)\")\n",
    "plt.tight_layout()\n",
    "plt.savefig(\"data/exp1/Mamba_s6_dropout.png\", dpi=200)"
   ],
   "id": "fc0f0f833bb6d3ee",
   "execution_count": 6,
   "outputs": []
  },
  {
   "metadata": {
    "ExecuteTime": {
     "end_time": "2024-04-24T07:09:44.500221Z",
     "start_time": "2024-04-24T07:09:44.172770Z"
    }
   },
   "cell_type": "code",
   "source": [
    "df = pd.read_csv(\"data/s6_weight_decay_exp.csv\")\n",
    "df = df.drop([\"Step\"], axis='columns')\n",
    "min_max = [col for col in list(df.columns) if \"MIN\" in col or \"MAX\" in col]\n",
    "df = df.drop(min_max, axis='columns')\n",
    "df.head()\n",
    "\n",
    "plt.plot(range(1,26), df)\n",
    "vals = [re.findall(\"\\d+\\.\\d+\", dropout)[0] for dropout in list(df.columns)]\n",
    "#vals = [\"0.0\",\"0.075\", \"0.15\", \"0.225\"]\n",
    "#vals.reverse()\n",
    "plt.legend(vals)\n",
    "plt.xlabel(\"epochs\")\n",
    "plt.ylabel(\"validation accuracy\")\n",
    "plt.ylim(0.5, 0.85)\n",
    "plt.title(\"Weight decay amount Mamba-s6 (cifar10 continuous)\")\n",
    "plt.tight_layout()\n",
    "plt.savefig(\"data/exp1/Mamba_s6_weightdecay.png\", dpi=200)"
   ],
   "id": "ec0869816eb63d1d",
   "execution_count": 7,
   "outputs": []
  }
 ],
 "metadata": {
  "kernelspec": {
   "display_name": "Python 3",
   "language": "python",
   "name": "python3"
  },
  "language_info": {
   "codemirror_mode": {
    "name": "ipython",
    "version": 2
   },
   "file_extension": ".py",
   "mimetype": "text/x-python",
   "name": "python",
   "nbconvert_exporter": "python",
   "pygments_lexer": "ipython2",
   "version": "2.7.6"
  }
 },
 "nbformat": 4,
 "nbformat_minor": 5
}
