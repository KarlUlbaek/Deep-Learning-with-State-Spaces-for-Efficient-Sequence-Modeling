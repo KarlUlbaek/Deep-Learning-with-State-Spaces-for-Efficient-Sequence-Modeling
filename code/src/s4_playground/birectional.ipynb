{
 "cells": [
  {
   "cell_type": "code",
   "execution_count": 1,
   "id": "initial_id",
   "metadata": {
    "collapsed": true,
    "ExecuteTime": {
     "end_time": "2024-04-03T06:34:08.643707Z",
     "start_time": "2024-04-03T06:34:07.410284Z"
    }
   },
   "outputs": [],
   "source": [
    "import torch\n",
    "import torch.nn.functional as F\n",
    "from einops import rearrange"
   ]
  },
  {
   "cell_type": "code",
   "outputs": [],
   "source": [
    "L = 1024\n",
    "h = 64\n",
    "c = 256\n",
    "k = torch.randn((c,h,L)) "
   ],
   "metadata": {
    "collapsed": false,
    "ExecuteTime": {
     "end_time": "2024-04-03T06:34:08.756378Z",
     "start_time": "2024-04-03T06:34:08.645370Z"
    }
   },
   "id": "d2418a4b1389f4fb",
   "execution_count": 2
  },
  {
   "cell_type": "code",
   "outputs": [],
   "source": [
    "k0, k1 = rearrange(k, '(s c) h l -> s c h l', s=2)"
   ],
   "metadata": {
    "collapsed": false,
    "ExecuteTime": {
     "end_time": "2024-04-03T06:34:08.760162Z",
     "start_time": "2024-04-03T06:34:08.757252Z"
    }
   },
   "id": "e7af5480af79525a",
   "execution_count": 3
  },
  {
   "cell_type": "code",
   "outputs": [
    {
     "data": {
      "text/plain": "torch.Size([128, 64, 1024])"
     },
     "execution_count": 4,
     "metadata": {},
     "output_type": "execute_result"
    }
   ],
   "source": [
    "k0.shape"
   ],
   "metadata": {
    "collapsed": false,
    "ExecuteTime": {
     "end_time": "2024-04-03T06:34:08.765717Z",
     "start_time": "2024-04-03T06:34:08.761208Z"
    }
   },
   "id": "93dc30babc930f8a",
   "execution_count": 4
  },
  {
   "cell_type": "code",
   "outputs": [
    {
     "data": {
      "text/plain": "torch.Size([128, 64, 2048])"
     },
     "execution_count": 5,
     "metadata": {},
     "output_type": "execute_result"
    }
   ],
   "source": [
    "F.pad(k0, (0, L)).shape"
   ],
   "metadata": {
    "collapsed": false,
    "ExecuteTime": {
     "end_time": "2024-04-03T06:34:08.787520Z",
     "start_time": "2024-04-03T06:34:08.767783Z"
    }
   },
   "id": "3e24c85b4d2ad495",
   "execution_count": 5
  },
  {
   "cell_type": "code",
   "outputs": [
    {
     "data": {
      "text/plain": "torch.Size([128, 64, 2048])"
     },
     "execution_count": 6,
     "metadata": {},
     "output_type": "execute_result"
    }
   ],
   "source": [
    "F.pad(k1.flip(-1), (L, 0)).shape"
   ],
   "metadata": {
    "collapsed": false,
    "ExecuteTime": {
     "end_time": "2024-04-03T06:34:08.814923Z",
     "start_time": "2024-04-03T06:34:08.788400Z"
    }
   },
   "id": "dcb8f1a51d0989b7",
   "execution_count": 6
  },
  {
   "cell_type": "code",
   "outputs": [],
   "source": [
    "def prop(x, k):\n",
    "   #k0, k1 = rearrange(k, '(s c) h l -> s c h l', s=2)\n",
    "   b, c, L = x.shape\n",
    "   x_new = torch.cat([x, x.flip(-1)], dim = -2)\n",
    "   #print(x_new.shape)\n",
    "   k_f = torch.fft.rfft(k, n=2 * L)  # (H L)\n",
    "   x_f = torch.fft.rfft(x_new, n=2 * L)  # (B H L)\n",
    "   y = torch.fft.irfft(x_f * k_f, n=2 * L)[..., :L] \n",
    "   y = y[:, :c, :] + y[:, c:, :].flip(-1)\n",
    "   \n",
    "   return y\n",
    "\n",
    "   #model = model.to(\"cpu\")"
   ],
   "metadata": {
    "collapsed": false,
    "ExecuteTime": {
     "end_time": "2024-04-03T07:35:28.009786Z",
     "start_time": "2024-04-03T07:35:28.006451Z"
    }
   },
   "id": "2371038bc697a47d",
   "execution_count": 75
  },
  {
   "cell_type": "code",
   "outputs": [],
   "source": [
    "def prop_dub(x, k):\n",
    "   #k0, k1 = rearrange(k, '(s c) h l -> s c h l', s=2)\n",
    "   b, c, L = x.shape\n",
    "   k_f = torch.fft.rfft(k, n=2 * L)  # (H L)\n",
    "   x_f = torch.fft.rfft(x, n=2 * L)  # (B H L)\n",
    "   y1 = torch.fft.irfft(x_f * k_f, n=2 * L)[..., :L] \n",
    "   \n",
    "   k_f = torch.fft.rfft(k, n=2 * L)  # (H L)\n",
    "   x_f = torch.fft.rfft(x.flip(-1), n=2 * L)  # (B H L)\n",
    "   y2 = torch.fft.irfft(x_f * k_f, n=2 * L)[..., :L] \n",
    "   \n",
    "   y = y1 + y2.flip(-1)\n",
    "   \n",
    "   return y"
   ],
   "metadata": {
    "collapsed": false,
    "ExecuteTime": {
     "end_time": "2024-04-03T08:03:01.030138Z",
     "start_time": "2024-04-03T08:03:01.026020Z"
    }
   },
   "id": "fdb228a9525ea34f",
   "execution_count": 108
  },
  {
   "cell_type": "code",
   "outputs": [],
   "source": [
    "def paper(x,k,og=True):\n",
    "   #k0, k1 = rearrange(k, '(s c) h l -> s c h l', s=2)\n",
    "   b, c, L = x.shape\n",
    "   \n",
    "   k0, k1 = rearrange(k, '(s c) h l -> s c h l', s=2)\n",
    "   k = F.pad(k0, (0, L))  + F.pad(k1.flip(-1), (L, 0))\n",
    "   #k = k0+ k1.flip(-1)\n",
    "   \n",
    "   k_f = torch.fft.rfft(k, n=2 * L)  # (H L)\n",
    "   x_f = torch.fft.rfft(x, n=2 * L)  # (B H L)\n",
    "   if og:\n",
    "      y_f = torch.einsum('bhl,chl->bchl', x_f, k_f)\n",
    "      y = torch.fft.irfft(y_f, n=2*L)[..., :L] # (B C H L)\n",
    "   else:\n",
    "      y = torch.fft.irfft(x_f * k_f, n=2 * L)[..., :L]  # (B H L)\n",
    "   return y\n",
    "    "
   ],
   "metadata": {
    "collapsed": false,
    "ExecuteTime": {
     "end_time": "2024-04-03T08:02:58.880642Z",
     "start_time": "2024-04-03T08:02:58.876472Z"
    }
   },
   "id": "c4bcbcd3007fcdd3",
   "execution_count": 107
  },
  {
   "cell_type": "code",
   "outputs": [],
   "source": [],
   "metadata": {
    "collapsed": false
   },
   "id": "5c02335e8d65d558"
  },
  {
   "cell_type": "code",
   "outputs": [
    {
     "name": "stdout",
     "output_type": "stream",
     "text": [
      "##################################################\n",
      "paper\n",
      "far/back mem GB: 0.7, 0.8\n",
      "far/back speed b/s: 545.5, 67.2\n",
      "##################################################\n",
      "paper\n",
      "far/back mem GB: 0.7, 0.8\n",
      "far/back speed b/s: 548.1, 78.4\n",
      "##################################################\n",
      "prop_dub\n",
      "far/back mem GB: 0.8, 0.9\n",
      "far/back speed b/s: 257.8, 68.6\n",
      "##################################################\n",
      "prop\n",
      "far/back mem GB: 0.9, 1.1\n",
      "far/back speed b/s: 261.9, 62.1\n"
     ]
    }
   ],
   "source": [
    "from functools import partial\n",
    "# model_throughput(partial(paper, og=False), name=\"paper\", reps=200)# 593, 80\n",
    "model_throughput(paper, name=\"paper\", reps=200)# 593, 80\n",
    "model_throughput(paper, name=\"paper\", reps=200)# 593, 80\n",
    "model_throughput(prop_dub, name=\"prop_dub\", reps=200)# 255, 60\n",
    "model_throughput(prop, name=\"prop\", reps=200)# 261, 62\n"
   ],
   "metadata": {
    "collapsed": false,
    "ExecuteTime": {
     "end_time": "2024-04-03T08:06:15.796674Z",
     "start_time": "2024-04-03T08:06:01.278203Z"
    }
   },
   "id": "584ced25c06167b6",
   "execution_count": 116
  },
  {
   "cell_type": "code",
   "outputs": [],
   "source": [
    "from torch.optim import AdamW\n",
    "import time\n",
    "def model_throughput(func_, name=\"paper\", reps=50):\n",
    "\n",
    "   d = \"cuda\"\n",
    "   L = 1024\n",
    "   c = 256\n",
    "   b = 16\n",
    "   if name == \"paper\":\n",
    "      k = torch.randn((2, c,L), requires_grad=True).to(d)\n",
    "   \n",
    "   elif name == \"prop_dub\":\n",
    "      k = torch.randn((1,c,L), requires_grad=True).to(d)\n",
    "      \n",
    "   else:\n",
    "      k = torch.randn((1,c*2,L), requires_grad=True).to(d)\n",
    "   \n",
    "   \n",
    "   batch = torch.randn((b,c,L), requires_grad=True).to(d)\n",
    "   #warm up\n",
    "   #func_ = func_.eval()\n",
    "   for _ in range(int(reps/5)):\n",
    "      out = func_(batch, k)\n",
    "   torch.cuda.synchronize()\n",
    "\n",
    "   # farward\n",
    "   torch.cuda.reset_peak_memory_stats()\n",
    "   with torch.no_grad():\n",
    "      t0 = time.perf_counter()\n",
    "      for _ in range(reps):\n",
    "         func_(batch, k)\n",
    "      torch.cuda.synchronize()\n",
    "      t1 = (time.perf_counter() - t0) / reps\n",
    "      mem1 = torch.cuda.max_memory_allocated()\n",
    "\n",
    "   # backward\n",
    "   #func_ = func_.train()\n",
    "   torch.cuda.reset_peak_memory_stats()\n",
    "   t0 = time.perf_counter()\n",
    "   for _ in range(int(reps)):\n",
    "      (func_(batch, k)).sum().backward()\n",
    "      #opt.step()\n",
    "      #opt.zero_grad()\n",
    "   torch.cuda.synchronize()\n",
    "   t2 = (time.perf_counter() - t0) / reps\n",
    "   mem2 = torch.cuda.max_memory_allocated()\n",
    "\n",
    "   print(\"##################################################\")\n",
    "   print(name)\n",
    "   print(f\"far/back mem GB: {mem1/1e9:.1f}, {mem2/1e9:.1f}\")\n",
    "   print(f\"far/back speed b/s: {1/t1:.1f}, {1/t2:.1f}\")\n"
   ],
   "metadata": {
    "collapsed": false,
    "ExecuteTime": {
     "end_time": "2024-04-03T08:06:15.803377Z",
     "start_time": "2024-04-03T08:06:15.797749Z"
    }
   },
   "id": "c16aa66faa547f43",
   "execution_count": 117
  }
 ],
 "metadata": {
  "kernelspec": {
   "display_name": "Python 3",
   "language": "python",
   "name": "python3"
  },
  "language_info": {
   "codemirror_mode": {
    "name": "ipython",
    "version": 2
   },
   "file_extension": ".py",
   "mimetype": "text/x-python",
   "name": "python",
   "nbconvert_exporter": "python",
   "pygments_lexer": "ipython2",
   "version": "2.7.6"
  }
 },
 "nbformat": 4,
 "nbformat_minor": 5
}
